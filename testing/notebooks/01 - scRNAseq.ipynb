{
 "cells": [
  {
   "cell_type": "markdown",
   "metadata": {},
   "source": [
    "# FacsimiLab for scRNAseq\n",
    "\n",
    "This jupyter notebook is designed to test the FacsimiLab docker container's ability to analyze single-cell RNA sequencing (scRNAseq) data. It utilizes `scvi`, `scanpy`, and `pytorch`.\n"
   ]
  },
  {
   "cell_type": "markdown",
   "metadata": {},
   "source": [
    "This jupyter notebook is a modification of the scverse tutorial called [Introduction to scvi-tools](https://docs.scvi-tools.org/en/stable/tutorials/notebooks/quick_start/api_overview.html). The original source code is available [on Github](https://github.com/scverse/scvi-tutorials/blob/c62f43f1c8c58710d99afe2e0d374c17a587b566/quick_start/api_overview.ipynb). We'd like to thank the YosefLab for their incredible tools and resources. This tutorial notebooks is licensed with **BSD 3-Clause License** and a complete copy of their license can be found at the end of this notebook.\n"
   ]
  },
  {
   "cell_type": "code",
   "execution_count": null,
   "metadata": {},
   "outputs": [],
   "source": [
    "import os\n",
    "import sys\n",
    "import tempfile\n",
    "from IPython.display import display, Markdown\n",
    "\n",
    "import anndata\n",
    "import pooch\n",
    "import muon\n",
    "\n",
    "import scanpy as sc\n",
    "import scvi\n",
    "import torch\n",
    "\n",
    "from scipy.sparse import csr_matrix\n",
    "import pandas as pd\n",
    "import numpy as np\n",
    "\n",
    "import jax\n",
    "import jaxlib\n",
    "import flax"
   ]
  },
  {
   "cell_type": "code",
   "execution_count": null,
   "metadata": {},
   "outputs": [],
   "source": [
    "# Check if Pytorch has succssfully detected and loaded an Nvidia GPU with CUDA support\n",
    "if torch.cuda.is_available():\n",
    "\n",
    "    display(Markdown(\"## Facsimilab: Nvidia CUDA GPU Detected\"))\n",
    "    display(Markdown(f\"GPU Name: {torch.cuda.get_device_name(0)}\"))\n",
    "    display(Markdown(f\"GPU Available: {torch.cuda.is_available()}\"))\n",
    "\n",
    "    display(Markdown(\"### System Information\"))\n",
    "\n",
    "    display(\n",
    "        Markdown(\n",
    "            f\"- Python version: `{sys.version}` \\n - PyTorch version: `{torch.__version__}`\\n - CUDNN version: `{torch.backends.cudnn.version()}`\\n - Number CUDA Devices: `{torch.cuda.device_count()}`\"\n",
    "        )\n",
    "    )\n",
    "\n",
    "    display(Markdown(\"### Devices\"))\n",
    "\n",
    "    display(\n",
    "        Markdown(\n",
    "            f\"- Available devices `{torch.cuda.device_count()}`\\n - Active CUDA device: `{torch.cuda.current_device()}`\"\n",
    "        )\n",
    "    )\n",
    "\n",
    "    display(\n",
    "        Markdown(\n",
    "            \"Python starts numbering from '0'. Therefore, the `Active CUDA device` name/number is expected to be `0` above.\"\n",
    "        )\n",
    "    )\n",
    "\n",
    "else:\n",
    "    display(Markdown(\"## No CUDA GPU Detected\"))\n",
    "    display(\n",
    "        Markdown(\n",
    "            \"This notebook will use the CPU instead of the GPU. Analysis time is expected to be _**significantly longer, but still possible.**_\"\n",
    "        )\n",
    "    )\n",
    "\n",
    "    display(Markdown(f\"GPU Available: {torch.cuda.is_available()}\"))\n",
    "\n",
    "    display(Markdown(\"### System Information\"))\n",
    "\n",
    "    display(\n",
    "        Markdown(\n",
    "            f\"- Python version: `{sys.version}` \\n - PyTorch version: `{torch.__version__}`\\n - CUDNN version: `{torch.backends.cudnn.version()}`\\n - Number CUDA Devices: `{torch.cuda.device_count()}`\"\n",
    "        )\n",
    "    )"
   ]
  },
  {
   "cell_type": "code",
   "execution_count": null,
   "metadata": {},
   "outputs": [],
   "source": [
    "scvi.settings.seed = 0\n",
    "sc.set_figure_params(figsize=(6, 6))\n",
    "torch.set_float32_matmul_precision(\"medium\")\n",
    "%config InlineBackend.print_figure_kwargs={'facecolor' : \"w\"}\n",
    "%config InlineBackend.figure_format='retina'"
   ]
  },
  {
   "cell_type": "markdown",
   "metadata": {},
   "source": [
    "## Loading and preparing data\n",
    "\n",
    "Let us first load a subsampled version of the heart cell atlas dataset described in Litviňuková et al. (2020). scvi-tools has many \"built-in\" datasets as well as support for loading arbitrary `.csv`, `.loom`, and `.h5ad` (AnnData) files. Please see our tutorial on data loading for more examples.\n",
    "\n",
    "-   Litviňuková, M., Talavera-López, C., Maatz, H., Reichart, D., Worth, C. L., Lindberg, E. L., ... & Teichmann, S. A. (2020). Cells of the adult human heart. Nature, 588(7838), 466-472.\n",
    "\n",
    "```{important}\n",
    "All scvi-tools models require AnnData objects as input.\n",
    "```\n"
   ]
  },
  {
   "cell_type": "code",
   "execution_count": null,
   "metadata": {},
   "outputs": [],
   "source": [
    "data_directory = \"./data\"\n",
    "verbosity = True"
   ]
  },
  {
   "cell_type": "code",
   "execution_count": null,
   "metadata": {},
   "outputs": [],
   "source": [
    "def download_data(\n",
    "    save_path: str, fname: str = \"pbmc5k_protein_filtered_feature_bc_matrix.h5\"\n",
    ") -> str:\n",
    "    \"\"\"Download the data files.\"\"\"\n",
    "    return pooch.retrieve(\n",
    "        url=\"https://cf.10xgenomics.com/samples/cell-exp/3.0.2/5k_pbmc_protein_v3/5k_pbmc_protein_v3_filtered_feature_bc_matrix.h5\",\n",
    "        known_hash=\"7695e6b1888bdae6f53b3a28a99f0a0cdf387d1685e330a597cdd4b5541f8abd\",\n",
    "        fname=fname,\n",
    "        path=save_path,\n",
    "    )"
   ]
  },
  {
   "cell_type": "code",
   "execution_count": null,
   "metadata": {},
   "outputs": [],
   "source": [
    "adata_heart = scvi.data.heart_cell_atlas_subsampled(save_path=data_directory)\n",
    "adata_heart.write_h5ad(f\"./data/heart_cell_atlas_supersubsampled.h5ad\")\n",
    "adata_heart"
   ]
  },
  {
   "cell_type": "code",
   "execution_count": null,
   "metadata": {},
   "outputs": [],
   "source": [
    "pbmc3k_path = os.path.join(data_directory, \"pbmc3k.h5ad\")\n",
    "pbmc3k = sc.read(\n",
    "    filename=pbmc3k_path, backup_url=\"http://falexwolf.de/data/pbmc3k_raw.h5ad\"\n",
    ")\n",
    "pbmc3k"
   ]
  },
  {
   "cell_type": "code",
   "execution_count": null,
   "metadata": {},
   "outputs": [],
   "source": [
    "h5_path = download_data(data_directory)\n",
    "pbmc5k = muon.read_10x_h5(h5_path)\n",
    "pbmc5k.var_names_make_unique()\n",
    "pbmc5k"
   ]
  },
  {
   "cell_type": "code",
   "execution_count": null,
   "metadata": {},
   "outputs": [],
   "source": [
    "adata = anndata.concat([pbmc3k, pbmc5k.mod[\"rna\"]], join=\"inner\", label=\"batch\")"
   ]
  },
  {
   "cell_type": "code",
   "execution_count": null,
   "metadata": {},
   "outputs": [],
   "source": [
    "adata.obs.sample(n=5)"
   ]
  },
  {
   "cell_type": "code",
   "execution_count": null,
   "metadata": {},
   "outputs": [],
   "source": [
    "print(\"# cells, # genes before filtering:\", adata.shape)\n",
    "\n",
    "sc.pp.filter_genes(adata, min_counts=3)\n",
    "sc.pp.filter_cells(adata, min_counts=3)\n",
    "\n",
    "print(\"# cells, # genes after filtering:\", adata.shape)"
   ]
  },
  {
   "cell_type": "code",
   "execution_count": null,
   "metadata": {},
   "outputs": [],
   "source": [
    "adata.layers[\"counts\"] = adata.X.copy()"
   ]
  },
  {
   "cell_type": "code",
   "execution_count": null,
   "metadata": {},
   "outputs": [],
   "source": [
    "sc.pp.normalize_total(adata)\n",
    "sc.pp.log1p(adata)"
   ]
  },
  {
   "cell_type": "code",
   "execution_count": null,
   "metadata": {},
   "outputs": [],
   "source": [
    "adata.raw = adata"
   ]
  },
  {
   "cell_type": "code",
   "execution_count": null,
   "metadata": {},
   "outputs": [],
   "source": [
    "mdata = muon.MuData({\"rna\": adata.copy(), \"log_norm_rna\": adata.copy()}, axis=-1)\n",
    "# Now rna is count-based and log_norm_rna is log-normalized\n",
    "mdata.mod[\"rna\"].X = mdata.mod[\"rna\"].layers[\"counts\"]\n",
    "del mdata.mod[\"rna\"].raw\n",
    "del mdata.mod[\"rna\"].layers[\"counts\"]\n",
    "del mdata.mod[\"log_norm_rna\"].layers[\"counts\"]\n",
    "mdata"
   ]
  },
  {
   "cell_type": "code",
   "execution_count": null,
   "metadata": {},
   "outputs": [],
   "source": [
    "scvi.model.SCVI.setup_anndata(adata, layer=\"counts\", batch_key=\"batch\")"
   ]
  },
  {
   "cell_type": "code",
   "execution_count": null,
   "metadata": {},
   "outputs": [],
   "source": [
    "np.asarray(pbmc5k.mod[\"prot\"].X)"
   ]
  },
  {
   "cell_type": "code",
   "execution_count": null,
   "metadata": {},
   "outputs": [],
   "source": [
    "# totalVI requires dense protein data\n",
    "pbmc5k.mod[\"prot\"].X = np.asarray(pbmc5k.mod[\"prot\"].X.A)\n",
    "scvi.model.TOTALVI.setup_mudata(\n",
    "    pbmc5k,\n",
    "    protein_layer=None,\n",
    "    rna_layer=None,\n",
    "    modalities={\"protein_layer\": \"prot\", \"rna_layer\": \"rna\"},\n",
    ")"
   ]
  },
  {
   "cell_type": "code",
   "execution_count": null,
   "metadata": {},
   "outputs": [],
   "source": []
  },
  {
   "cell_type": "code",
   "execution_count": null,
   "metadata": {},
   "outputs": [],
   "source": []
  },
  {
   "cell_type": "code",
   "execution_count": null,
   "metadata": {},
   "outputs": [],
   "source": []
  },
  {
   "cell_type": "code",
   "execution_count": null,
   "metadata": {},
   "outputs": [],
   "source": []
  },
  {
   "cell_type": "code",
   "execution_count": null,
   "metadata": {},
   "outputs": [],
   "source": []
  },
  {
   "cell_type": "code",
   "execution_count": null,
   "metadata": {},
   "outputs": [],
   "source": [
    "# Train the model\n",
    "scvi.model.SCVI.setup_anndata(adata)\n",
    "vae = scvi.model.SCVI(adata)\n",
    "vae.train()\n",
    "\n",
    "solo = scvi.external.SOLO.from_scvi_model(vae)\n",
    "solo.train()\n",
    "\n",
    "# See if we have doublets\n",
    "doublets = solo.predict()\n",
    "doublets[\"prediction\"] = solo.predict(soft=False)\n",
    "\n",
    "# Strip off the \"-1\" which is on the barcodes\n",
    "doublets.index = doublets.index.map(lambda x: x[:-2])\n",
    "\n",
    "if verbosity == True:\n",
    "\tdisplay(doublets)\n",
    "\n",
    "# Count the number of doublets\n",
    "display(doublets.groupby(\"prediction\").count())\n",
    "\n",
    "# Create a doublet \"difference\" score parameter in `df.[\"DSS\"]`\n",
    "doublets[\"DSS\"] = doublets[\"doublet\"] - doublets[\"singlet\"]\n",
    "doublets\n",
    "if verbosity == True:\n",
    "\tdisplay(doublets)"
   ]
  },
  {
   "cell_type": "code",
   "execution_count": null,
   "metadata": {},
   "outputs": [],
   "source": [
    "sample_name = \"Heart-Subsampled\"\n",
    "\n",
    "# Create a new column to contain a cell barcode starting with the sample name\n",
    "adata.obs[\"Cell_Barcode\"] = sample_name\n",
    "# Append the index (cell barcode) to the sample name in each row\n",
    "adata.obs['Cell_Barcode'] = adata.obs['Cell_Barcode'].map(str) + \"_\" + adata.obs.index\n",
    "\n",
    "# Strip off the \"-1\" which is on the barcodes\n",
    "adata.obs['Cell_Barcode'] = adata.obs['Cell_Barcode'].map(lambda x: x[:-2])\n",
    "\n",
    "# Confirm the number of unique barcodes (should equal the number of rows)\n",
    "display(f\"All `adata.obs` rows have a unique barcode: {len(adata.obs['Cell_Barcode'].unique()) == adata.obs.shape[0]} ({len(adata.obs['Cell_Barcode'].unique())} cells barcoded)\")\n",
    "\n",
    "# Create a new column to contain a cell barcode starting with the sample name\n",
    "doublets['Cell_Barcode'] = sample_name\n",
    "\n",
    "# Append the index (cell barcode) to the sample name in each row\n",
    "doublets['Cell_Barcode'] = doublets['Cell_Barcode'].map(str) + \"_\" + doublets.index\n",
    "\n",
    "\n",
    "# Confirm the number of unique barcodes (should equal the number of rows)\n",
    "display(f\"All `doublets` rows have a unique barcode: {len(doublets['Cell_Barcode'].unique()) == doublets.shape[0]} ({len(doublets['Cell_Barcode'].unique())} cells barcoded)\")\n",
    "\n",
    "# Confirm that the doublets dataframe has the same barcodes as the adata.obs dataframe\n",
    "display(f\"Do adata.obs and doublets have the same barcodes?\\n{doublets['Cell_Barcode'].isin(adata.obs['Cell_Barcode']).value_counts()}\")\n",
    "\n",
    "# Merge the doublets dataframe into adata.obs\n",
    "adata.obs = pd.merge(adata.obs, doublets, on='Cell_Barcode')\n",
    "\n",
    "# Make the cell barcodes be the index column\n",
    "adata.obs.set_index('Cell_Barcode')"
   ]
  },
  {
   "cell_type": "code",
   "execution_count": null,
   "metadata": {},
   "outputs": [],
   "source": [
    "# Basic quality control\n",
    "sc.pp.filter_genes(adata, min_cells=3)\n",
    "sc.pp.filter_cells(adata, min_genes=3000)\n",
    "\n",
    "# Note this is an incomplete set of QC. We are proving that scanpy is operational"
   ]
  },
  {
   "cell_type": "code",
   "execution_count": null,
   "metadata": {},
   "outputs": [],
   "source": [
    "# Normalize and Log Transform\n",
    "adata.layers[\"counts\"] = adata.X.copy()\n",
    "sc.pp.normalize_total(adata, target_sum=1e4)\n",
    "sc.pp.log1p(adata)\n",
    "adata.raw = adata"
   ]
  },
  {
   "cell_type": "code",
   "execution_count": null,
   "metadata": {},
   "outputs": [],
   "source": [
    "sc.pp.highly_variable_genes(\n",
    "    adata,\n",
    "    n_top_genes=1200,\n",
    "    subset=True,\n",
    "    layer=\"counts\",\n",
    "    flavor=\"seurat_v3\",\n",
    "    batch_key=\"cell_source\",\n",
    ")"
   ]
  }
 ],
 "metadata": {
  "kernelspec": {
   "display_name": "Python 3 (ipykernel)",
   "language": "python",
   "name": "python3"
  }
 },
 "nbformat": 4,
 "nbformat_minor": 2
}
