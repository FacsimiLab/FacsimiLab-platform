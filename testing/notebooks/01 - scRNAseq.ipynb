{
 "cells": [
  {
   "cell_type": "markdown",
   "metadata": {},
   "source": [
    "# FacsimiLab for scRNAseq\n",
    "\n",
    "This jupyter notebook is designed to test the FacsimiLab docker container's ability to analyze single-cell RNA sequencing (scRNAseq) data. It utilizes `scvi`, `scanpy`, and `pytorch`.\n"
   ]
  },
  {
   "cell_type": "markdown",
   "metadata": {},
   "source": [
    "This jupyter notebook is a modification of the scverse tutorial called [Introduction to scvi-tools](https://docs.scvi-tools.org/en/stable/tutorials/notebooks/quick_start/api_overview.html). The original source code is available [on Github](https://github.com/scverse/scvi-tutorials/blob/c62f43f1c8c58710d99afe2e0d374c17a587b566/quick_start/api_overview.ipynb). We'd like to thank the YosefLab for their incredible tools and resources. This tutorial notebooks is licensed with **BSD 3-Clause License** and a complete copy of their license can be found at the end of this notebook.\n"
   ]
  },
  {
   "cell_type": "code",
   "execution_count": 1,
   "metadata": {},
   "outputs": [
    {
     "ename": "ModuleNotFoundError",
     "evalue": "No module named 'muon'",
     "output_type": "error",
     "traceback": [
      "\u001b[0;31m---------------------------------------------------------------------------\u001b[0m",
      "\u001b[0;31mModuleNotFoundError\u001b[0m                       Traceback (most recent call last)",
      "Cell \u001b[0;32mIn[1], line 8\u001b[0m\n\u001b[1;32m      6\u001b[0m \u001b[38;5;28;01mimport\u001b[39;00m \u001b[38;5;21;01manndata\u001b[39;00m\n\u001b[1;32m      7\u001b[0m \u001b[38;5;28;01mimport\u001b[39;00m \u001b[38;5;21;01mpooch\u001b[39;00m\n\u001b[0;32m----> 8\u001b[0m \u001b[38;5;28;01mimport\u001b[39;00m \u001b[38;5;21;01mmuon\u001b[39;00m\n\u001b[1;32m     10\u001b[0m \u001b[38;5;28;01mimport\u001b[39;00m \u001b[38;5;21;01mscanpy\u001b[39;00m \u001b[38;5;28;01mas\u001b[39;00m \u001b[38;5;21;01msc\u001b[39;00m\n\u001b[1;32m     11\u001b[0m \u001b[38;5;28;01mimport\u001b[39;00m \u001b[38;5;21;01mscvi\u001b[39;00m\n",
      "\u001b[0;31mModuleNotFoundError\u001b[0m: No module named 'muon'"
     ]
    }
   ],
   "source": [
    "import os\n",
    "import sys\n",
    "import tempfile\n",
    "from IPython.display import display, Markdown\n",
    "\n",
    "import anndata\n",
    "import pooch\n",
    "import muon\n",
    "\n",
    "import scanpy as sc\n",
    "import scvi\n",
    "import torch\n",
    "\n",
    "from scipy.sparse import csr_matrix\n",
    "import pandas as pd\n",
    "import numpy as np\n",
    "\n",
    "import jax\n",
    "import jaxlib\n",
    "import flax"
   ]
  },
  {
   "cell_type": "code",
   "execution_count": 2,
   "metadata": {},
   "outputs": [
    {
     "data": {
      "text/markdown": [
       "## Facsimilab: Nvidia CUDA GPU Detected"
      ],
      "text/plain": [
       "<IPython.core.display.Markdown object>"
      ]
     },
     "metadata": {},
     "output_type": "display_data"
    },
    {
     "data": {
      "text/markdown": [
       "GPU Name: NVIDIA GeForce RTX 3060"
      ],
      "text/plain": [
       "<IPython.core.display.Markdown object>"
      ]
     },
     "metadata": {},
     "output_type": "display_data"
    },
    {
     "data": {
      "text/markdown": [
       "GPU Available: True"
      ],
      "text/plain": [
       "<IPython.core.display.Markdown object>"
      ]
     },
     "metadata": {},
     "output_type": "display_data"
    },
    {
     "data": {
      "text/markdown": [
       "### System Information"
      ],
      "text/plain": [
       "<IPython.core.display.Markdown object>"
      ]
     },
     "metadata": {},
     "output_type": "display_data"
    },
    {
     "data": {
      "text/markdown": [
       "- Python version: `3.11.9 | packaged by conda-forge | (main, Apr 19 2024, 18:36:13) [GCC 12.3.0]` \n",
       " - PyTorch version: `2.4.0`\n",
       " - CUDNN version: `90100`\n",
       " - Number CUDA Devices: `1`"
      ],
      "text/plain": [
       "<IPython.core.display.Markdown object>"
      ]
     },
     "metadata": {},
     "output_type": "display_data"
    },
    {
     "data": {
      "text/markdown": [
       "### Devices"
      ],
      "text/plain": [
       "<IPython.core.display.Markdown object>"
      ]
     },
     "metadata": {},
     "output_type": "display_data"
    },
    {
     "data": {
      "text/markdown": [
       "- Available devices `1`\n",
       " - Active CUDA device: `0`"
      ],
      "text/plain": [
       "<IPython.core.display.Markdown object>"
      ]
     },
     "metadata": {},
     "output_type": "display_data"
    },
    {
     "data": {
      "text/markdown": [
       "Python starts numbering from '0'. Therefore, the `Active CUDA device` name/number is expected to be `0` above."
      ],
      "text/plain": [
       "<IPython.core.display.Markdown object>"
      ]
     },
     "metadata": {},
     "output_type": "display_data"
    }
   ],
   "source": [
    "# Check if Pytorch has succssfully detected and loaded an Nvidia GPU with CUDA support\n",
    "if torch.cuda.is_available():\n",
    "\n",
    "    display(Markdown(\"## Facsimilab: Nvidia CUDA GPU Detected\"))\n",
    "    display(Markdown(f\"GPU Name: {torch.cuda.get_device_name(0)}\"))\n",
    "    display(Markdown(f\"GPU Available: {torch.cuda.is_available()}\"))\n",
    "\n",
    "    display(Markdown(\"### System Information\"))\n",
    "\n",
    "    display(\n",
    "        Markdown(\n",
    "            f\"- Python version: `{sys.version}` \\n - PyTorch version: `{torch.__version__}`\\n - CUDNN version: `{torch.backends.cudnn.version()}`\\n - Number CUDA Devices: `{torch.cuda.device_count()}`\"\n",
    "        )\n",
    "    )\n",
    "\n",
    "    display(Markdown(\"### Devices\"))\n",
    "\n",
    "    display(\n",
    "        Markdown(\n",
    "            f\"- Available devices `{torch.cuda.device_count()}`\\n - Active CUDA device: `{torch.cuda.current_device()}`\"\n",
    "        )\n",
    "    )\n",
    "\n",
    "    display(\n",
    "        Markdown(\n",
    "            \"Python starts numbering from '0'. Therefore, the `Active CUDA device` name/number is expected to be `0` above.\"\n",
    "        )\n",
    "    )\n",
    "\n",
    "else:\n",
    "    display(Markdown(\"## No CUDA GPU Detected\"))\n",
    "    display(\n",
    "        Markdown(\n",
    "            \"This notebook will use the CPU instead of the GPU. Analysis time is expected to be _**significantly longer, but still possible.**_\"\n",
    "        )\n",
    "    )\n",
    "\n",
    "    display(Markdown(f\"GPU Available: {torch.cuda.is_available()}\"))\n",
    "\n",
    "    display(Markdown(\"### System Information\"))\n",
    "\n",
    "    display(\n",
    "        Markdown(\n",
    "            f\"- Python version: `{sys.version}` \\n - PyTorch version: `{torch.__version__}`\\n - CUDNN version: `{torch.backends.cudnn.version()}`\\n - Number CUDA Devices: `{torch.cuda.device_count()}`\"\n",
    "        )\n",
    "    )"
   ]
  },
  {
   "cell_type": "code",
   "execution_count": 3,
   "metadata": {},
   "outputs": [
    {
     "name": "stderr",
     "output_type": "stream",
     "text": [
      "Global seed set to 0\n"
     ]
    }
   ],
   "source": [
    "scvi.settings.seed = 0\n",
    "sc.set_figure_params(figsize=(6, 6))\n",
    "torch.set_float32_matmul_precision(\"medium\")\n",
    "%config InlineBackend.print_figure_kwargs={'facecolor' : \"w\"}\n",
    "%config InlineBackend.figure_format='retina'"
   ]
  },
  {
   "cell_type": "markdown",
   "metadata": {},
   "source": [
    "## Loading and preparing data\n",
    "\n",
    "Let us first load a subsampled version of the heart cell atlas dataset described in Litviňuková et al. (2020). scvi-tools has many \"built-in\" datasets as well as support for loading arbitrary `.csv`, `.loom`, and `.h5ad` (AnnData) files. Please see our tutorial on data loading for more examples.\n",
    "\n",
    "-   Litviňuková, M., Talavera-López, C., Maatz, H., Reichart, D., Worth, C. L., Lindberg, E. L., ... & Teichmann, S. A. (2020). Cells of the adult human heart. Nature, 588(7838), 466-472.\n",
    "\n",
    "```{important}\n",
    "All scvi-tools models require AnnData objects as input.\n",
    "```\n"
   ]
  },
  {
   "cell_type": "code",
   "execution_count": 4,
   "metadata": {},
   "outputs": [],
   "source": [
    "data_directory = \"./data\"\n",
    "verbosity = True"
   ]
  },
  {
   "cell_type": "code",
   "execution_count": 5,
   "metadata": {},
   "outputs": [],
   "source": [
    "def download_data(\n",
    "    save_path: str, fname: str = \"pbmc5k_protein_filtered_feature_bc_matrix.h5\"\n",
    ") -> str:\n",
    "    \"\"\"Download the data files.\"\"\"\n",
    "    return pooch.retrieve(\n",
    "        url=\"https://cf.10xgenomics.com/samples/cell-exp/3.0.2/5k_pbmc_protein_v3/5k_pbmc_protein_v3_filtered_feature_bc_matrix.h5\",\n",
    "        known_hash=\"7695e6b1888bdae6f53b3a28a99f0a0cdf387d1685e330a597cdd4b5541f8abd\",\n",
    "        fname=fname,\n",
    "        path=save_path,\n",
    "    )"
   ]
  },
  {
   "cell_type": "code",
   "execution_count": 6,
   "metadata": {},
   "outputs": [
    {
     "name": "stdout",
     "output_type": "stream",
     "text": [
      "\u001b[34mINFO    \u001b[0m File .\u001b[35m/data/\u001b[0m\u001b[95mhca_subsampled_20k.h5ad\u001b[0m already downloaded                                                    \n"
     ]
    },
    {
     "data": {
      "text/plain": [
       "AnnData object with n_obs × n_vars = 18641 × 26662\n",
       "    obs: 'NRP', 'age_group', 'cell_source', 'cell_type', 'donor', 'gender', 'n_counts', 'n_genes', 'percent_mito', 'percent_ribo', 'region', 'sample', 'scrublet_score', 'source', 'type', 'version', 'cell_states', 'Used'\n",
       "    var: 'gene_ids-Harvard-Nuclei', 'feature_types-Harvard-Nuclei', 'gene_ids-Sanger-Nuclei', 'feature_types-Sanger-Nuclei', 'gene_ids-Sanger-Cells', 'feature_types-Sanger-Cells', 'gene_ids-Sanger-CD45', 'feature_types-Sanger-CD45', 'n_counts'\n",
       "    uns: 'cell_type_colors'"
      ]
     },
     "execution_count": 6,
     "metadata": {},
     "output_type": "execute_result"
    }
   ],
   "source": [
    "adata_heart = scvi.data.heart_cell_atlas_subsampled(save_path=data_directory)\n",
    "adata_heart.write_h5ad(f\"./data/heart_cell_atlas_supersubsampled.h5ad\")\n",
    "adata_heart"
   ]
  },
  {
   "cell_type": "code",
   "execution_count": 7,
   "metadata": {},
   "outputs": [
    {
     "data": {
      "text/plain": [
       "AnnData object with n_obs × n_vars = 2700 × 32738\n",
       "    var: 'gene_ids'"
      ]
     },
     "execution_count": 7,
     "metadata": {},
     "output_type": "execute_result"
    }
   ],
   "source": [
    "pbmc3k_path = os.path.join(data_directory, \"pbmc3k.h5ad\")\n",
    "pbmc3k = sc.read(\n",
    "    filename=pbmc3k_path, backup_url=\"http://falexwolf.de/data/pbmc3k_raw.h5ad\"\n",
    ")\n",
    "pbmc3k"
   ]
  },
  {
   "cell_type": "code",
   "execution_count": 12,
   "metadata": {},
   "outputs": [
    {
     "name": "stderr",
     "output_type": "stream",
     "text": [
      "/opt/conda/envs/facsimilab/lib/python3.11/site-packages/anndata/_core/anndata.py:1820: UserWarning: Variable names are not unique. To make them unique, call `.var_names_make_unique`.\n",
      "  utils.warn_names_duplicates(\"var\")\n",
      "/opt/conda/envs/facsimilab/lib/python3.11/site-packages/anndata/_core/anndata.py:1820: UserWarning: Variable names are not unique. To make them unique, call `.var_names_make_unique`.\n",
      "  utils.warn_names_duplicates(\"var\")\n",
      "/opt/conda/envs/facsimilab/lib/python3.11/site-packages/mudata/_core/mudata.py:1454: FutureWarning: From 0.4 .update() will not pull obs/var columns from individual modalities by default anymore. Set mudata.set_options(pull_on_update=False) to adopt the new behaviour, which will become the default. Use new pull_obs/pull_var and push_obs/push_var methods for more flexibility.\n",
      "  self._update_attr(\"var\", axis=0, join_common=join_common)\n",
      "/opt/conda/envs/facsimilab/lib/python3.11/site-packages/mudata/_core/mudata.py:856: UserWarning: var_names are not unique. To make them unique, call `.var_names_make_unique`.\n",
      "  warnings.warn(\n",
      "/opt/conda/envs/facsimilab/lib/python3.11/site-packages/mudata/_core/mudata.py:1352: FutureWarning: From 0.4 .update() will not pull obs/var columns from individual modalities by default anymore. Set mudata.set_options(pull_on_update=False) to adopt the new behaviour, which will become the default. Use new pull_obs/pull_var and push_obs/push_var methods for more flexibility.\n",
      "  self._update_attr(\"obs\", axis=1, join_common=join_common)\n"
     ]
    },
    {
     "data": {
      "text/html": [
       "<pre>MuData object with n_obs × n_vars = 5247 × 33570\n",
       "  var:\t&#x27;gene_ids&#x27;, &#x27;feature_types&#x27;, &#x27;genome&#x27;, &#x27;pattern&#x27;, &#x27;read&#x27;, &#x27;sequence&#x27;\n",
       "  2 modalities\n",
       "    rna:\t5247 x 33538\n",
       "      var:\t&#x27;gene_ids&#x27;, &#x27;feature_types&#x27;, &#x27;genome&#x27;, &#x27;pattern&#x27;, &#x27;read&#x27;, &#x27;sequence&#x27;\n",
       "    prot:\t5247 x 32\n",
       "      var:\t&#x27;gene_ids&#x27;, &#x27;feature_types&#x27;, &#x27;genome&#x27;, &#x27;pattern&#x27;, &#x27;read&#x27;, &#x27;sequence&#x27;</pre>"
      ],
      "text/plain": [
       "MuData object with n_obs × n_vars = 5247 × 33570\n",
       "  var:\t'gene_ids', 'feature_types', 'genome', 'pattern', 'read', 'sequence'\n",
       "  2 modalities\n",
       "    rna:\t5247 x 33538\n",
       "      var:\t'gene_ids', 'feature_types', 'genome', 'pattern', 'read', 'sequence'\n",
       "    prot:\t5247 x 32\n",
       "      var:\t'gene_ids', 'feature_types', 'genome', 'pattern', 'read', 'sequence'"
      ]
     },
     "execution_count": 12,
     "metadata": {},
     "output_type": "execute_result"
    }
   ],
   "source": [
    "h5_path = download_data(data_directory)\n",
    "pbmc5k = muon.read_10x_h5(h5_path)\n",
    "pbmc5k.var_names_make_unique()\n",
    "pbmc5k"
   ]
  },
  {
   "cell_type": "code",
   "execution_count": 13,
   "metadata": {},
   "outputs": [],
   "source": [
    "adata = anndata.concat([pbmc3k, pbmc5k.mod[\"rna\"]], join=\"inner\", label=\"batch\")"
   ]
  },
  {
   "cell_type": "code",
   "execution_count": 14,
   "metadata": {},
   "outputs": [
    {
     "data": {
      "text/html": [
       "<div>\n",
       "<style scoped>\n",
       "    .dataframe tbody tr th:only-of-type {\n",
       "        vertical-align: middle;\n",
       "    }\n",
       "\n",
       "    .dataframe tbody tr th {\n",
       "        vertical-align: top;\n",
       "    }\n",
       "\n",
       "    .dataframe thead th {\n",
       "        text-align: right;\n",
       "    }\n",
       "</style>\n",
       "<table border=\"1\" class=\"dataframe\">\n",
       "  <thead>\n",
       "    <tr style=\"text-align: right;\">\n",
       "      <th></th>\n",
       "      <th>batch</th>\n",
       "    </tr>\n",
       "  </thead>\n",
       "  <tbody>\n",
       "    <tr>\n",
       "      <th>AGCCAGCGTGGTTCTA-1</th>\n",
       "      <td>1</td>\n",
       "    </tr>\n",
       "    <tr>\n",
       "      <th>CTTCATGAAGTACC-1</th>\n",
       "      <td>0</td>\n",
       "    </tr>\n",
       "    <tr>\n",
       "      <th>AATGGAGAATCGTG-1</th>\n",
       "      <td>0</td>\n",
       "    </tr>\n",
       "    <tr>\n",
       "      <th>GCCGAGTGCGTTGA-1</th>\n",
       "      <td>0</td>\n",
       "    </tr>\n",
       "    <tr>\n",
       "      <th>TCAGTGACATACCACA-1</th>\n",
       "      <td>1</td>\n",
       "    </tr>\n",
       "  </tbody>\n",
       "</table>\n",
       "</div>"
      ],
      "text/plain": [
       "                   batch\n",
       "AGCCAGCGTGGTTCTA-1     1\n",
       "CTTCATGAAGTACC-1       0\n",
       "AATGGAGAATCGTG-1       0\n",
       "GCCGAGTGCGTTGA-1       0\n",
       "TCAGTGACATACCACA-1     1"
      ]
     },
     "execution_count": 14,
     "metadata": {},
     "output_type": "execute_result"
    }
   ],
   "source": [
    "adata.obs.sample(n=5)"
   ]
  },
  {
   "cell_type": "code",
   "execution_count": 15,
   "metadata": {},
   "outputs": [
    {
     "name": "stdout",
     "output_type": "stream",
     "text": [
      "# cells, # genes before filtering: (7947, 20453)\n",
      "# cells, # genes after filtering: (7947, 14309)\n"
     ]
    }
   ],
   "source": [
    "print(\"# cells, # genes before filtering:\", adata.shape)\n",
    "\n",
    "sc.pp.filter_genes(adata, min_counts=3)\n",
    "sc.pp.filter_cells(adata, min_counts=3)\n",
    "\n",
    "print(\"# cells, # genes after filtering:\", adata.shape)"
   ]
  },
  {
   "cell_type": "code",
   "execution_count": 16,
   "metadata": {},
   "outputs": [],
   "source": [
    "adata.layers[\"counts\"] = adata.X.copy()"
   ]
  },
  {
   "cell_type": "code",
   "execution_count": 17,
   "metadata": {},
   "outputs": [],
   "source": [
    "sc.pp.normalize_total(adata)\n",
    "sc.pp.log1p(adata)"
   ]
  },
  {
   "cell_type": "code",
   "execution_count": 18,
   "metadata": {},
   "outputs": [],
   "source": [
    "adata.raw = adata"
   ]
  },
  {
   "cell_type": "code",
   "execution_count": 19,
   "metadata": {},
   "outputs": [
    {
     "name": "stderr",
     "output_type": "stream",
     "text": [
      "/opt/conda/envs/facsimilab/lib/python3.11/site-packages/mudata/_core/mudata.py:1454: FutureWarning: From 0.4 .update() will not pull obs/var columns from individual modalities by default anymore. Set mudata.set_options(pull_on_update=False) to adopt the new behaviour, which will become the default. Use new pull_obs/pull_var and push_obs/push_var methods for more flexibility.\n",
      "  self._update_attr(\"var\", axis=0, join_common=join_common)\n",
      "/opt/conda/envs/facsimilab/lib/python3.11/site-packages/mudata/_core/mudata.py:1352: FutureWarning: From 0.4 .update() will not pull obs/var columns from individual modalities by default anymore. Set mudata.set_options(pull_on_update=False) to adopt the new behaviour, which will become the default. Use new pull_obs/pull_var and push_obs/push_var methods for more flexibility.\n",
      "  self._update_attr(\"obs\", axis=1, join_common=join_common)\n"
     ]
    },
    {
     "data": {
      "text/html": [
       "<pre>MuData object with n_obs × n_vars = 7947 × 14309 (shared obs and var) \n",
       "  2 modalities\n",
       "    rna:\t7947 x 14309\n",
       "      obs:\t&#x27;batch&#x27;, &#x27;n_counts&#x27;\n",
       "      var:\t&#x27;n_counts&#x27;\n",
       "      uns:\t&#x27;log1p&#x27;\n",
       "    log_norm_rna:\t7947 x 14309\n",
       "      obs:\t&#x27;batch&#x27;, &#x27;n_counts&#x27;\n",
       "      var:\t&#x27;n_counts&#x27;\n",
       "      uns:\t&#x27;log1p&#x27;</pre>"
      ],
      "text/plain": [
       "MuData object with n_obs × n_vars = 7947 × 14309 (shared obs and var) \n",
       "  2 modalities\n",
       "    rna:\t7947 x 14309\n",
       "      obs:\t'batch', 'n_counts'\n",
       "      var:\t'n_counts'\n",
       "      uns:\t'log1p'\n",
       "    log_norm_rna:\t7947 x 14309\n",
       "      obs:\t'batch', 'n_counts'\n",
       "      var:\t'n_counts'\n",
       "      uns:\t'log1p'"
      ]
     },
     "execution_count": 19,
     "metadata": {},
     "output_type": "execute_result"
    }
   ],
   "source": [
    "mdata = muon.MuData({\"rna\": adata.copy(), \"log_norm_rna\": adata.copy()}, axis=-1)\n",
    "# Now rna is count-based and log_norm_rna is log-normalized\n",
    "mdata.mod[\"rna\"].X = mdata.mod[\"rna\"].layers[\"counts\"]\n",
    "del mdata.mod[\"rna\"].raw\n",
    "del mdata.mod[\"rna\"].layers[\"counts\"]\n",
    "del mdata.mod[\"log_norm_rna\"].layers[\"counts\"]\n",
    "mdata"
   ]
  },
  {
   "cell_type": "code",
   "execution_count": 20,
   "metadata": {},
   "outputs": [
    {
     "name": "stderr",
     "output_type": "stream",
     "text": [
      "CUDA backend failed to initialize: Unable to use CUDA because of the following issues with CUDA components:\n",
      "Outdated cuDNN installation found.\n",
      "Version JAX was built against: 8907\n",
      "Minimum supported: 9100\n",
      "Installed version: 8907\n",
      "The local installation version must be no lower than 9100..(Set TF_CPP_MIN_LOG_LEVEL=0 and rerun for more info.)\n"
     ]
    }
   ],
   "source": [
    "scvi.model.SCVI.setup_anndata(adata, layer=\"counts\", batch_key=\"batch\")"
   ]
  },
  {
   "cell_type": "code",
   "execution_count": 28,
   "metadata": {},
   "outputs": [
    {
     "data": {
      "text/plain": [
       "array(<Compressed Sparse Row sparse matrix of dtype 'float32'\n",
       "\twith 155437 stored elements and shape (5247, 32)>, dtype=object)"
      ]
     },
     "execution_count": 28,
     "metadata": {},
     "output_type": "execute_result"
    }
   ],
   "source": [
    "np.asarray(pbmc5k.mod[\"prot\"].X)"
   ]
  },
  {
   "cell_type": "code",
   "execution_count": 21,
   "metadata": {},
   "outputs": [
    {
     "ename": "AttributeError",
     "evalue": "'csr_matrix' object has no attribute 'A'",
     "output_type": "error",
     "traceback": [
      "\u001b[0;31m---------------------------------------------------------------------------\u001b[0m",
      "\u001b[0;31mAttributeError\u001b[0m                            Traceback (most recent call last)",
      "Cell \u001b[0;32mIn[21], line 2\u001b[0m\n\u001b[1;32m      1\u001b[0m \u001b[38;5;66;03m# totalVI requires dense protein data\u001b[39;00m\n\u001b[0;32m----> 2\u001b[0m pbmc5k\u001b[38;5;241m.\u001b[39mmod[\u001b[38;5;124m\"\u001b[39m\u001b[38;5;124mprot\u001b[39m\u001b[38;5;124m\"\u001b[39m]\u001b[38;5;241m.\u001b[39mX \u001b[38;5;241m=\u001b[39m np\u001b[38;5;241m.\u001b[39masarray(\u001b[43mpbmc5k\u001b[49m\u001b[38;5;241;43m.\u001b[39;49m\u001b[43mmod\u001b[49m\u001b[43m[\u001b[49m\u001b[38;5;124;43m\"\u001b[39;49m\u001b[38;5;124;43mprot\u001b[39;49m\u001b[38;5;124;43m\"\u001b[39;49m\u001b[43m]\u001b[49m\u001b[38;5;241;43m.\u001b[39;49m\u001b[43mX\u001b[49m\u001b[38;5;241;43m.\u001b[39;49m\u001b[43mA\u001b[49m)\n\u001b[1;32m      3\u001b[0m scvi\u001b[38;5;241m.\u001b[39mmodel\u001b[38;5;241m.\u001b[39mTOTALVI\u001b[38;5;241m.\u001b[39msetup_mudata(\n\u001b[1;32m      4\u001b[0m     pbmc5k,\n\u001b[1;32m      5\u001b[0m     protein_layer\u001b[38;5;241m=\u001b[39m\u001b[38;5;28;01mNone\u001b[39;00m,\n\u001b[1;32m      6\u001b[0m     rna_layer\u001b[38;5;241m=\u001b[39m\u001b[38;5;28;01mNone\u001b[39;00m,\n\u001b[1;32m      7\u001b[0m     modalities\u001b[38;5;241m=\u001b[39m{\u001b[38;5;124m\"\u001b[39m\u001b[38;5;124mprotein_layer\u001b[39m\u001b[38;5;124m\"\u001b[39m: \u001b[38;5;124m\"\u001b[39m\u001b[38;5;124mprot\u001b[39m\u001b[38;5;124m\"\u001b[39m, \u001b[38;5;124m\"\u001b[39m\u001b[38;5;124mrna_layer\u001b[39m\u001b[38;5;124m\"\u001b[39m: \u001b[38;5;124m\"\u001b[39m\u001b[38;5;124mrna\u001b[39m\u001b[38;5;124m\"\u001b[39m},\n\u001b[1;32m      8\u001b[0m )\n",
      "\u001b[0;31mAttributeError\u001b[0m: 'csr_matrix' object has no attribute 'A'"
     ]
    }
   ],
   "source": [
    "# totalVI requires dense protein data\n",
    "pbmc5k.mod[\"prot\"].X = np.asarray(pbmc5k.mod[\"prot\"].X.A)\n",
    "scvi.model.TOTALVI.setup_mudata(\n",
    "    pbmc5k,\n",
    "    protein_layer=None,\n",
    "    rna_layer=None,\n",
    "    modalities={\"protein_layer\": \"prot\", \"rna_layer\": \"rna\"},\n",
    ")"
   ]
  },
  {
   "cell_type": "code",
   "execution_count": null,
   "metadata": {},
   "outputs": [],
   "source": []
  },
  {
   "cell_type": "code",
   "execution_count": null,
   "metadata": {},
   "outputs": [],
   "source": []
  },
  {
   "cell_type": "code",
   "execution_count": null,
   "metadata": {},
   "outputs": [],
   "source": []
  },
  {
   "cell_type": "code",
   "execution_count": null,
   "metadata": {},
   "outputs": [],
   "source": []
  },
  {
   "cell_type": "code",
   "execution_count": null,
   "metadata": {},
   "outputs": [],
   "source": []
  },
  {
   "cell_type": "code",
   "execution_count": null,
   "metadata": {},
   "outputs": [],
   "source": [
    "# Train the model\n",
    "scvi.model.SCVI.setup_anndata(adata)\n",
    "vae = scvi.model.SCVI(adata)\n",
    "vae.train()\n",
    "\n",
    "solo = scvi.external.SOLO.from_scvi_model(vae)\n",
    "solo.train()\n",
    "\n",
    "# See if we have doublets\n",
    "doublets = solo.predict()\n",
    "doublets[\"prediction\"] = solo.predict(soft=False)\n",
    "\n",
    "# Strip off the \"-1\" which is on the barcodes\n",
    "doublets.index = doublets.index.map(lambda x: x[:-2])\n",
    "\n",
    "if verbosity == True:\n",
    "\tdisplay(doublets)\n",
    "\n",
    "# Count the number of doublets\n",
    "display(doublets.groupby(\"prediction\").count())\n",
    "\n",
    "# Create a doublet \"difference\" score parameter in `df.[\"DSS\"]`\n",
    "doublets[\"DSS\"] = doublets[\"doublet\"] - doublets[\"singlet\"]\n",
    "doublets\n",
    "if verbosity == True:\n",
    "\tdisplay(doublets)"
   ]
  },
  {
   "cell_type": "code",
   "execution_count": null,
   "metadata": {},
   "outputs": [],
   "source": [
    "sample_name = \"Heart-Subsampled\"\n",
    "\n",
    "# Create a new column to contain a cell barcode starting with the sample name\n",
    "adata.obs[\"Cell_Barcode\"] = sample_name\n",
    "# Append the index (cell barcode) to the sample name in each row\n",
    "adata.obs['Cell_Barcode'] = adata.obs['Cell_Barcode'].map(str) + \"_\" + adata.obs.index\n",
    "\n",
    "# Strip off the \"-1\" which is on the barcodes\n",
    "adata.obs['Cell_Barcode'] = adata.obs['Cell_Barcode'].map(lambda x: x[:-2])\n",
    "\n",
    "# Confirm the number of unique barcodes (should equal the number of rows)\n",
    "display(f\"All `adata.obs` rows have a unique barcode: {len(adata.obs['Cell_Barcode'].unique()) == adata.obs.shape[0]} ({len(adata.obs['Cell_Barcode'].unique())} cells barcoded)\")\n",
    "\n",
    "# Create a new column to contain a cell barcode starting with the sample name\n",
    "doublets['Cell_Barcode'] = sample_name\n",
    "\n",
    "# Append the index (cell barcode) to the sample name in each row\n",
    "doublets['Cell_Barcode'] = doublets['Cell_Barcode'].map(str) + \"_\" + doublets.index\n",
    "\n",
    "\n",
    "# Confirm the number of unique barcodes (should equal the number of rows)\n",
    "display(f\"All `doublets` rows have a unique barcode: {len(doublets['Cell_Barcode'].unique()) == doublets.shape[0]} ({len(doublets['Cell_Barcode'].unique())} cells barcoded)\")\n",
    "\n",
    "# Confirm that the doublets dataframe has the same barcodes as the adata.obs dataframe\n",
    "display(f\"Do adata.obs and doublets have the same barcodes?\\n{doublets['Cell_Barcode'].isin(adata.obs['Cell_Barcode']).value_counts()}\")\n",
    "\n",
    "# Merge the doublets dataframe into adata.obs\n",
    "adata.obs = pd.merge(adata.obs, doublets, on='Cell_Barcode')\n",
    "\n",
    "# Make the cell barcodes be the index column\n",
    "adata.obs.set_index('Cell_Barcode')"
   ]
  },
  {
   "cell_type": "code",
   "execution_count": null,
   "metadata": {},
   "outputs": [],
   "source": [
    "# Basic quality control\n",
    "sc.pp.filter_genes(adata, min_cells=3)\n",
    "sc.pp.filter_cells(adata, min_genes=3000)\n",
    "\n",
    "# Note this is an incomplete set of QC. We are proving that scanpy is operational"
   ]
  },
  {
   "cell_type": "code",
   "execution_count": null,
   "metadata": {},
   "outputs": [],
   "source": [
    "# Normalize and Log Transform\n",
    "adata.layers[\"counts\"] = adata.X.copy()\n",
    "sc.pp.normalize_total(adata, target_sum=1e4)\n",
    "sc.pp.log1p(adata)\n",
    "adata.raw = adata"
   ]
  },
  {
   "cell_type": "code",
   "execution_count": null,
   "metadata": {},
   "outputs": [],
   "source": [
    "sc.pp.highly_variable_genes(\n",
    "    adata,\n",
    "    n_top_genes=1200,\n",
    "    subset=True,\n",
    "    layer=\"counts\",\n",
    "    flavor=\"seurat_v3\",\n",
    "    batch_key=\"cell_source\",\n",
    ")"
   ]
  }
 ],
 "metadata": {
  "kernelspec": {
   "display_name": "Python 3 (ipykernel)",
   "language": "python",
   "name": "python3"
  }
 },
 "nbformat": 4,
 "nbformat_minor": 2
}
