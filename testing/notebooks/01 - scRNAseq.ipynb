{
 "cells": [
  {
   "cell_type": "markdown",
   "metadata": {},
   "source": [
    "# FacsimiLab for scRNAseq\n",
    "\n",
    "This jupyter notebook is designed to test the FacsimiLab docker container's ability to analyze single-cell RNA sequencing (scRNAseq) data. It utilizes `scvi`, `scanpy`, and `pytorch`.\n"
   ]
  },
  {
   "cell_type": "markdown",
   "metadata": {},
   "source": [
    "This jupyter notebook is a modification of the scverse tutorial called [Introduction to scvi-tools](https://docs.scvi-tools.org/en/stable/tutorials/notebooks/quick_start/api_overview.html). The original source code is available [on Github](https://github.com/scverse/scvi-tutorials/blob/c62f43f1c8c58710d99afe2e0d374c17a587b566/quick_start/api_overview.ipynb). We'd like to thank the YosefLab for their incredible tools and resources. This tutorial notebooks is licensed with **BSD 3-Clause License** and a complete copy of their license can be found at the end of this notebook.\n"
   ]
  },
  {
   "cell_type": "code",
   "execution_count": 3,
   "metadata": {},
   "outputs": [],
   "source": [
    "import os\n",
    "import sys\n",
    "import tempfile\n",
    "from IPython.display import display, Markdown\n",
    "\n",
    "import scanpy as sc\n",
    "import scvi\n",
    "import torch\n",
    "\n",
    "from scipy.sparse import csr_matrix\n",
    "import pandas as pd\n",
    "import numpy as np\n",
    "\n",
    "import jax\n",
    "import jaxlib\n",
    "import flax"
   ]
  },
  {
   "cell_type": "code",
   "execution_count": 4,
   "metadata": {},
   "outputs": [
    {
     "data": {
      "text/markdown": [
       "## Facsimilab: Nvidia CUDA GPU Detected"
      ],
      "text/plain": [
       "<IPython.core.display.Markdown object>"
      ]
     },
     "metadata": {},
     "output_type": "display_data"
    },
    {
     "data": {
      "text/markdown": [
       "GPU Name: NVIDIA GeForce RTX 3060"
      ],
      "text/plain": [
       "<IPython.core.display.Markdown object>"
      ]
     },
     "metadata": {},
     "output_type": "display_data"
    },
    {
     "data": {
      "text/markdown": [
       "GPU Available: True"
      ],
      "text/plain": [
       "<IPython.core.display.Markdown object>"
      ]
     },
     "metadata": {},
     "output_type": "display_data"
    },
    {
     "data": {
      "text/markdown": [
       "### System Information"
      ],
      "text/plain": [
       "<IPython.core.display.Markdown object>"
      ]
     },
     "metadata": {},
     "output_type": "display_data"
    },
    {
     "data": {
      "text/markdown": [
       "- Python version: `3.11.9 | packaged by conda-forge | (main, Apr 19 2024, 18:36:13) [GCC 12.3.0]` \n",
       " - PyTorch version: `2.4.0`\n",
       " - CUDNN version: `90100`\n",
       " - Number CUDA Devices: `1`"
      ],
      "text/plain": [
       "<IPython.core.display.Markdown object>"
      ]
     },
     "metadata": {},
     "output_type": "display_data"
    },
    {
     "data": {
      "text/markdown": [
       "### Devices"
      ],
      "text/plain": [
       "<IPython.core.display.Markdown object>"
      ]
     },
     "metadata": {},
     "output_type": "display_data"
    },
    {
     "data": {
      "text/markdown": [
       "- Available devices `1`\n",
       " - Active CUDA device: `0`"
      ],
      "text/plain": [
       "<IPython.core.display.Markdown object>"
      ]
     },
     "metadata": {},
     "output_type": "display_data"
    },
    {
     "data": {
      "text/markdown": [
       "Python starts numbering from '0'. Therefore, the `Active CUDA device` name/number is expected to be `0` above."
      ],
      "text/plain": [
       "<IPython.core.display.Markdown object>"
      ]
     },
     "metadata": {},
     "output_type": "display_data"
    }
   ],
   "source": [
    "# Check if Pytorch has succssfully detected and loaded an Nvidia GPU with CUDA support\n",
    "if torch.cuda.is_available():\n",
    "\n",
    "    display(Markdown(\"## Facsimilab: Nvidia CUDA GPU Detected\"))\n",
    "    display(Markdown(f\"GPU Name: {torch.cuda.get_device_name(0)}\"))\n",
    "    display(Markdown(f\"GPU Available: {torch.cuda.is_available()}\"))\n",
    "\n",
    "    display(Markdown(\"### System Information\"))\n",
    "\n",
    "    display(\n",
    "        Markdown(\n",
    "            f\"- Python version: `{sys.version}` \\n - PyTorch version: `{torch.__version__}`\\n - CUDNN version: `{torch.backends.cudnn.version()}`\\n - Number CUDA Devices: `{torch.cuda.device_count()}`\"\n",
    "        )\n",
    "    )\n",
    "\n",
    "    display(Markdown(\"### Devices\"))\n",
    "\n",
    "    display(\n",
    "        Markdown(\n",
    "            f\"- Available devices `{torch.cuda.device_count()}`\\n - Active CUDA device: `{torch.cuda.current_device()}`\"\n",
    "        )\n",
    "    )\n",
    "\n",
    "    display(\n",
    "        Markdown(\n",
    "            \"Python starts numbering from '0'. Therefore, the `Active CUDA device` name/number is expected to be `0` above.\"\n",
    "        )\n",
    "    )\n",
    "\n",
    "else:\n",
    "    display(Markdown(\"## No CUDA GPU Detected\"))\n",
    "    display(\n",
    "        Markdown(\n",
    "            \"This notebook will use the CPU instead of the GPU. Analysis time is expected to be _**significantly longer, but still possible.**_\"\n",
    "        )\n",
    "    )\n",
    "\n",
    "    display(Markdown(f\"GPU Available: {torch.cuda.is_available()}\"))\n",
    "\n",
    "    display(Markdown(\"### System Information\"))\n",
    "\n",
    "    display(\n",
    "        Markdown(\n",
    "            f\"- Python version: `{sys.version}` \\n - PyTorch version: `{torch.__version__}`\\n - CUDNN version: `{torch.backends.cudnn.version()}`\\n - Number CUDA Devices: `{torch.cuda.device_count()}`\"\n",
    "        )\n",
    "    )"
   ]
  },
  {
   "cell_type": "code",
   "execution_count": 5,
   "metadata": {},
   "outputs": [
    {
     "name": "stderr",
     "output_type": "stream",
     "text": [
      "Global seed set to 0\n"
     ]
    }
   ],
   "source": [
    "scvi.settings.seed = 0\n",
    "sc.set_figure_params(figsize=(4, 4))\n",
    "torch.set_float32_matmul_precision(\"medium\")\n",
    "%config InlineBackend.print_figure_kwargs={'facecolor' : \"w\"}\n",
    "%config InlineBackend.figure_format='retina'"
   ]
  },
  {
   "cell_type": "markdown",
   "metadata": {},
   "source": [
    "## Loading and preparing data\n",
    "\n",
    "Let us first load a subsampled version of the heart cell atlas dataset described in Litviňuková et al. (2020). scvi-tools has many \"built-in\" datasets as well as support for loading arbitrary `.csv`, `.loom`, and `.h5ad` (AnnData) files. Please see our tutorial on data loading for more examples.\n",
    "\n",
    "-   Litviňuková, M., Talavera-López, C., Maatz, H., Reichart, D., Worth, C. L., Lindberg, E. L., ... & Teichmann, S. A. (2020). Cells of the adult human heart. Nature, 588(7838), 466-472.\n",
    "\n",
    "```{important}\n",
    "All scvi-tools models require AnnData objects as input.\n",
    "```\n"
   ]
  },
  {
   "cell_type": "code",
   "execution_count": 16,
   "metadata": {},
   "outputs": [],
   "source": [
    "data_directory = \"./data\"\n",
    "verbosity = True"
   ]
  },
  {
   "cell_type": "code",
   "execution_count": 26,
   "metadata": {},
   "outputs": [
    {
     "name": "stdout",
     "output_type": "stream",
     "text": [
      "\u001b[34mINFO    \u001b[0m File .\u001b[35m/data/\u001b[0m\u001b[95mhca_subsampled_20k.h5ad\u001b[0m already downloaded                                                    \n"
     ]
    },
    {
     "data": {
      "text/plain": [
       "AnnData object with n_obs × n_vars = 18641 × 26662\n",
       "    obs: 'NRP', 'age_group', 'cell_source', 'cell_type', 'donor', 'gender', 'n_counts', 'n_genes', 'percent_mito', 'percent_ribo', 'region', 'sample', 'scrublet_score', 'source', 'type', 'version', 'cell_states', 'Used'\n",
       "    var: 'gene_ids-Harvard-Nuclei', 'feature_types-Harvard-Nuclei', 'gene_ids-Sanger-Nuclei', 'feature_types-Sanger-Nuclei', 'gene_ids-Sanger-Cells', 'feature_types-Sanger-Cells', 'gene_ids-Sanger-CD45', 'feature_types-Sanger-CD45', 'n_counts'\n",
       "    uns: 'cell_type_colors'"
      ]
     },
     "execution_count": 26,
     "metadata": {},
     "output_type": "execute_result"
    }
   ],
   "source": [
    "adata = scvi.data.heart_cell_atlas_subsampled(save_path=data_directory)\n",
    "adata.write_h5ad(f\"./data/heart_cell_atlas_supersubsampled.h5ad\")\n",
    "adata"
   ]
  },
  {
   "cell_type": "code",
   "execution_count": 14,
   "metadata": {},
   "outputs": [],
   "source": [
    "# adata = adata[0:1000].copy()\n",
    "# adata.write_h5ad(f\"./data/heart_cell_atlas_supersubsampled.h5ad\")"
   ]
  },
  {
   "cell_type": "code",
   "execution_count": 15,
   "metadata": {},
   "outputs": [
    {
     "name": "stderr",
     "output_type": "stream",
     "text": [
      "CUDA backend failed to initialize: Unable to use CUDA because of the following issues with CUDA components:\n",
      "Outdated cuDNN installation found.\n",
      "Version JAX was built against: 8907\n",
      "Minimum supported: 9100\n",
      "Installed version: 8907\n",
      "The local installation version must be no lower than 9100..(Set TF_CPP_MIN_LOG_LEVEL=0 and rerun for more info.)\n",
      "GPU available: True (cuda), used: True\n",
      "TPU available: False, using: 0 TPU cores\n",
      "IPU available: False, using: 0 IPUs\n",
      "HPU available: False, using: 0 HPUs\n",
      "LOCAL_RANK: 0 - CUDA_VISIBLE_DEVICES: [0]\n",
      "/opt/conda/envs/facsimilab/lib/python3.11/site-packages/lightning/pytorch/loops/fit_loop.py:280: PossibleUserWarning: The number of training batches (8) is smaller than the logging interval Trainer(log_every_n_steps=10). Set a lower value for log_every_n_steps if you want to see logs for the training epoch.\n",
      "  rank_zero_warn(\n"
     ]
    },
    {
     "name": "stdout",
     "output_type": "stream",
     "text": [
      "Epoch 400/400: 100%|█| 400/400 [01:08<00:00,  6.12it/s, v_num=1, train_loss_step=3.9e+3, train_los"
     ]
    },
    {
     "name": "stderr",
     "output_type": "stream",
     "text": [
      "`Trainer.fit` stopped: `max_epochs=400` reached.\n"
     ]
    },
    {
     "name": "stdout",
     "output_type": "stream",
     "text": [
      "Epoch 400/400: 100%|█| 400/400 [01:08<00:00,  5.87it/s, v_num=1, train_loss_step=3.9e+3, train_los\n",
      "\u001b[34mINFO    \u001b[0m Creating doublets, preparing SOLO model.                                                                  \n"
     ]
    },
    {
     "name": "stderr",
     "output_type": "stream",
     "text": [
      "GPU available: True (cuda), used: True\n",
      "TPU available: False, using: 0 TPU cores\n",
      "IPU available: False, using: 0 IPUs\n",
      "HPU available: False, using: 0 HPUs\n",
      "LOCAL_RANK: 0 - CUDA_VISIBLE_DEVICES: [0]\n"
     ]
    },
    {
     "name": "stdout",
     "output_type": "stream",
     "text": [
      "Epoch 339/400:  85%|▊| 339/400 [00:26<00:04, 12.85it/s, v_num=1, train_loss_step=0.237, train_loss\n",
      "Monitored metric validation_loss did not improve in the last 30 records. Best score: 0.357. Signaling Trainer to stop.\n"
     ]
    },
    {
     "name": "stderr",
     "output_type": "stream",
     "text": [
      "/opt/conda/envs/facsimilab/lib/python3.11/site-packages/torch/utils/_contextlib.py:116: UserWarning: Prior to scvi-tools 1.1.3, `SOLO.predict` with `soft=True` (the default option) returned logits instead of probabilities. This behavior has since been corrected to return probabiltiies. The previous behavior can be replicated by passing in `return_logits=True`.\n",
      "  return func(*args, **kwargs)\n",
      "/opt/conda/envs/facsimilab/lib/python3.11/site-packages/torch/utils/_contextlib.py:116: UserWarning: Prior to scvi-tools 1.1.3, `SOLO.predict` with `soft=True` (the default option) returned logits instead of probabilities. This behavior has since been corrected to return probabiltiies. The previous behavior can be replicated by passing in `return_logits=True`.\n",
      "  return func(*args, **kwargs)\n"
     ]
    },
    {
     "ename": "NameError",
     "evalue": "name 'verbosity' is not defined",
     "output_type": "error",
     "traceback": [
      "\u001b[0;31m---------------------------------------------------------------------------\u001b[0m",
      "\u001b[0;31mNameError\u001b[0m                                 Traceback (most recent call last)",
      "Cell \u001b[0;32mIn[15], line 16\u001b[0m\n\u001b[1;32m     13\u001b[0m \u001b[38;5;66;03m# Strip off the \"-1\" which is on the barcodes\u001b[39;00m\n\u001b[1;32m     14\u001b[0m doublets\u001b[38;5;241m.\u001b[39mindex \u001b[38;5;241m=\u001b[39m doublets\u001b[38;5;241m.\u001b[39mindex\u001b[38;5;241m.\u001b[39mmap(\u001b[38;5;28;01mlambda\u001b[39;00m x: x[:\u001b[38;5;241m-\u001b[39m\u001b[38;5;241m2\u001b[39m])\n\u001b[0;32m---> 16\u001b[0m \u001b[38;5;28;01mif\u001b[39;00m \u001b[43mverbosity\u001b[49m \u001b[38;5;241m==\u001b[39m \u001b[38;5;28;01mTrue\u001b[39;00m:\n\u001b[1;32m     17\u001b[0m \tdisplay(doublets)\n\u001b[1;32m     19\u001b[0m \u001b[38;5;66;03m# Count the number of doublets\u001b[39;00m\n",
      "\u001b[0;31mNameError\u001b[0m: name 'verbosity' is not defined"
     ]
    }
   ],
   "source": [
    "# Train the model\n",
    "scvi.model.SCVI.setup_anndata(adata)\n",
    "vae = scvi.model.SCVI(adata)\n",
    "vae.train()\n",
    "\n",
    "solo = scvi.external.SOLO.from_scvi_model(vae)\n",
    "solo.train()\n",
    "\n",
    "# See if we have doublets\n",
    "doublets = solo.predict()\n",
    "doublets[\"prediction\"] = solo.predict(soft=False)\n",
    "\n",
    "# Strip off the \"-1\" which is on the barcodes\n",
    "doublets.index = doublets.index.map(lambda x: x[:-2])\n",
    "\n",
    "if verbosity == True:\n",
    "\tdisplay(doublets)\n",
    "\n",
    "# Count the number of doublets\n",
    "display(doublets.groupby(\"prediction\").count())\n",
    "\n",
    "# Create a doublet \"difference\" score parameter in `df.[\"DSS\"]`\n",
    "doublets[\"DSS\"] = doublets[\"doublet\"] - doublets[\"singlet\"]\n",
    "doublets\n",
    "if verbosity == True:\n",
    "\tdisplay(doublets)"
   ]
  },
  {
   "cell_type": "code",
   "execution_count": 18,
   "metadata": {},
   "outputs": [
    {
     "data": {
      "text/plain": [
       "'All `adata.obs` rows have a unique barcode: True (1000 cells barcoded)'"
      ]
     },
     "metadata": {},
     "output_type": "display_data"
    },
    {
     "data": {
      "text/plain": [
       "'All `doublets` rows have a unique barcode: True (1000 cells barcoded)'"
      ]
     },
     "metadata": {},
     "output_type": "display_data"
    },
    {
     "data": {
      "text/plain": [
       "'Do adata.obs and doublets have the same barcodes?\\nCell_Barcode\\nTrue    1000\\nName: count, dtype: int64'"
      ]
     },
     "metadata": {},
     "output_type": "display_data"
    },
    {
     "data": {
      "text/html": [
       "<div>\n",
       "<style scoped>\n",
       "    .dataframe tbody tr th:only-of-type {\n",
       "        vertical-align: middle;\n",
       "    }\n",
       "\n",
       "    .dataframe tbody tr th {\n",
       "        vertical-align: top;\n",
       "    }\n",
       "\n",
       "    .dataframe thead th {\n",
       "        text-align: right;\n",
       "    }\n",
       "</style>\n",
       "<table border=\"1\" class=\"dataframe\">\n",
       "  <thead>\n",
       "    <tr style=\"text-align: right;\">\n",
       "      <th></th>\n",
       "      <th>NRP</th>\n",
       "      <th>age_group</th>\n",
       "      <th>cell_source</th>\n",
       "      <th>cell_type</th>\n",
       "      <th>donor</th>\n",
       "      <th>gender</th>\n",
       "      <th>n_counts</th>\n",
       "      <th>n_genes</th>\n",
       "      <th>percent_mito</th>\n",
       "      <th>percent_ribo</th>\n",
       "      <th>...</th>\n",
       "      <th>source</th>\n",
       "      <th>type</th>\n",
       "      <th>version</th>\n",
       "      <th>cell_states</th>\n",
       "      <th>Used</th>\n",
       "      <th>_scvi_batch</th>\n",
       "      <th>_scvi_labels</th>\n",
       "      <th>doublet</th>\n",
       "      <th>singlet</th>\n",
       "      <th>prediction</th>\n",
       "    </tr>\n",
       "    <tr>\n",
       "      <th>Cell_Barcode</th>\n",
       "      <th></th>\n",
       "      <th></th>\n",
       "      <th></th>\n",
       "      <th></th>\n",
       "      <th></th>\n",
       "      <th></th>\n",
       "      <th></th>\n",
       "      <th></th>\n",
       "      <th></th>\n",
       "      <th></th>\n",
       "      <th></th>\n",
       "      <th></th>\n",
       "      <th></th>\n",
       "      <th></th>\n",
       "      <th></th>\n",
       "      <th></th>\n",
       "      <th></th>\n",
       "      <th></th>\n",
       "      <th></th>\n",
       "      <th></th>\n",
       "      <th></th>\n",
       "    </tr>\n",
       "  </thead>\n",
       "  <tbody>\n",
       "    <tr>\n",
       "      <th>Heart-Subsampled_AACTCCCCACGAGAGT-1-HCAHeart78440</th>\n",
       "      <td>Yes</td>\n",
       "      <td>65-70</td>\n",
       "      <td>Sanger-CD45</td>\n",
       "      <td>Myeloid</td>\n",
       "      <td>D6</td>\n",
       "      <td>Male</td>\n",
       "      <td>1420.0</td>\n",
       "      <td>738</td>\n",
       "      <td>0.054930</td>\n",
       "      <td>0.064789</td>\n",
       "      <td>...</td>\n",
       "      <td>CD45+</td>\n",
       "      <td>DCD</td>\n",
       "      <td>V2</td>\n",
       "      <td>LYVE1+MØ1</td>\n",
       "      <td>Yes</td>\n",
       "      <td>0</td>\n",
       "      <td>0</td>\n",
       "      <td>0.063017</td>\n",
       "      <td>0.936983</td>\n",
       "      <td>singlet</td>\n",
       "    </tr>\n",
       "    <tr>\n",
       "      <th>Heart-Subsampled_ATAACGCAGAGCTGGT-1-HCAHeart78299</th>\n",
       "      <td>No</td>\n",
       "      <td>70-75</td>\n",
       "      <td>Sanger-Nuclei</td>\n",
       "      <td>Ventricular_Cardiomyocyte</td>\n",
       "      <td>D4</td>\n",
       "      <td>Female</td>\n",
       "      <td>844.0</td>\n",
       "      <td>505</td>\n",
       "      <td>0.001185</td>\n",
       "      <td>0.001185</td>\n",
       "      <td>...</td>\n",
       "      <td>Nuclei</td>\n",
       "      <td>DCD</td>\n",
       "      <td>V2</td>\n",
       "      <td>vCM1</td>\n",
       "      <td>Yes</td>\n",
       "      <td>0</td>\n",
       "      <td>0</td>\n",
       "      <td>0.010113</td>\n",
       "      <td>0.989887</td>\n",
       "      <td>singlet</td>\n",
       "    </tr>\n",
       "    <tr>\n",
       "      <th>Heart-Subsampled_GTCAAGTCATGCCACG-1-HCAHeart77028</th>\n",
       "      <td>Yes</td>\n",
       "      <td>60-65</td>\n",
       "      <td>Sanger-Nuclei</td>\n",
       "      <td>Fibroblast</td>\n",
       "      <td>D2</td>\n",
       "      <td>Male</td>\n",
       "      <td>1491.0</td>\n",
       "      <td>862</td>\n",
       "      <td>0.000000</td>\n",
       "      <td>0.005366</td>\n",
       "      <td>...</td>\n",
       "      <td>Nuclei</td>\n",
       "      <td>DCD</td>\n",
       "      <td>V2</td>\n",
       "      <td>FB2</td>\n",
       "      <td>Yes</td>\n",
       "      <td>0</td>\n",
       "      <td>0</td>\n",
       "      <td>0.323940</td>\n",
       "      <td>0.676060</td>\n",
       "      <td>singlet</td>\n",
       "    </tr>\n",
       "    <tr>\n",
       "      <th>Heart-Subsampled_GGTGATTCAAATGAGT-1-HCAHeart81028</th>\n",
       "      <td>Yes</td>\n",
       "      <td>60-65</td>\n",
       "      <td>Sanger-CD45</td>\n",
       "      <td>Endothelial</td>\n",
       "      <td>D11</td>\n",
       "      <td>Female</td>\n",
       "      <td>2167.0</td>\n",
       "      <td>1115</td>\n",
       "      <td>0.064144</td>\n",
       "      <td>0.027227</td>\n",
       "      <td>...</td>\n",
       "      <td>CD45+</td>\n",
       "      <td>DCD</td>\n",
       "      <td>V3</td>\n",
       "      <td>EC10_CMC-like</td>\n",
       "      <td>Yes</td>\n",
       "      <td>0</td>\n",
       "      <td>0</td>\n",
       "      <td>0.390160</td>\n",
       "      <td>0.609840</td>\n",
       "      <td>singlet</td>\n",
       "    </tr>\n",
       "    <tr>\n",
       "      <th>Heart-Subsampled_AGAGAATTCTTAGCAG-1-HCAHeart81028</th>\n",
       "      <td>Yes</td>\n",
       "      <td>60-65</td>\n",
       "      <td>Sanger-Cells</td>\n",
       "      <td>Endothelial</td>\n",
       "      <td>D11</td>\n",
       "      <td>Female</td>\n",
       "      <td>7334.0</td>\n",
       "      <td>2505</td>\n",
       "      <td>0.093537</td>\n",
       "      <td>0.040496</td>\n",
       "      <td>...</td>\n",
       "      <td>Cells</td>\n",
       "      <td>DCD</td>\n",
       "      <td>V3</td>\n",
       "      <td>EC5_art</td>\n",
       "      <td>Yes</td>\n",
       "      <td>0</td>\n",
       "      <td>0</td>\n",
       "      <td>0.416016</td>\n",
       "      <td>0.583984</td>\n",
       "      <td>singlet</td>\n",
       "    </tr>\n",
       "    <tr>\n",
       "      <th>...</th>\n",
       "      <td>...</td>\n",
       "      <td>...</td>\n",
       "      <td>...</td>\n",
       "      <td>...</td>\n",
       "      <td>...</td>\n",
       "      <td>...</td>\n",
       "      <td>...</td>\n",
       "      <td>...</td>\n",
       "      <td>...</td>\n",
       "      <td>...</td>\n",
       "      <td>...</td>\n",
       "      <td>...</td>\n",
       "      <td>...</td>\n",
       "      <td>...</td>\n",
       "      <td>...</td>\n",
       "      <td>...</td>\n",
       "      <td>...</td>\n",
       "      <td>...</td>\n",
       "      <td>...</td>\n",
       "      <td>...</td>\n",
       "      <td>...</td>\n",
       "    </tr>\n",
       "    <tr>\n",
       "      <th>Heart-Subsampled_GAAACTCCAATGGAAT-1-HCAHeart78299</th>\n",
       "      <td>No</td>\n",
       "      <td>70-75</td>\n",
       "      <td>Sanger-Nuclei</td>\n",
       "      <td>Endothelial</td>\n",
       "      <td>D4</td>\n",
       "      <td>Female</td>\n",
       "      <td>527.0</td>\n",
       "      <td>395</td>\n",
       "      <td>0.001898</td>\n",
       "      <td>0.001898</td>\n",
       "      <td>...</td>\n",
       "      <td>Nuclei</td>\n",
       "      <td>DCD</td>\n",
       "      <td>V2</td>\n",
       "      <td>EC5_art</td>\n",
       "      <td>Yes</td>\n",
       "      <td>0</td>\n",
       "      <td>0</td>\n",
       "      <td>0.002073</td>\n",
       "      <td>0.997927</td>\n",
       "      <td>singlet</td>\n",
       "    </tr>\n",
       "    <tr>\n",
       "      <th>Heart-Subsampled_ATAGACCGTTTCACTT-1-HCAHeart81028</th>\n",
       "      <td>Yes</td>\n",
       "      <td>60-65</td>\n",
       "      <td>Sanger-CD45</td>\n",
       "      <td>Pericytes</td>\n",
       "      <td>D11</td>\n",
       "      <td>Female</td>\n",
       "      <td>5144.0</td>\n",
       "      <td>1979</td>\n",
       "      <td>0.174767</td>\n",
       "      <td>0.034798</td>\n",
       "      <td>...</td>\n",
       "      <td>CD45+</td>\n",
       "      <td>DCD</td>\n",
       "      <td>V3</td>\n",
       "      <td>PC3_str</td>\n",
       "      <td>Yes</td>\n",
       "      <td>0</td>\n",
       "      <td>0</td>\n",
       "      <td>0.746039</td>\n",
       "      <td>0.253961</td>\n",
       "      <td>doublet</td>\n",
       "    </tr>\n",
       "    <tr>\n",
       "      <th>Heart-Subsampled_GACCAATAGCCACGTC-1-HCAHeart78505</th>\n",
       "      <td>Yes</td>\n",
       "      <td>60-65</td>\n",
       "      <td>Sanger-CD45</td>\n",
       "      <td>Lymphoid</td>\n",
       "      <td>D7</td>\n",
       "      <td>Male</td>\n",
       "      <td>1850.0</td>\n",
       "      <td>940</td>\n",
       "      <td>0.018378</td>\n",
       "      <td>0.039459</td>\n",
       "      <td>...</td>\n",
       "      <td>CD45+</td>\n",
       "      <td>DCD</td>\n",
       "      <td>V2</td>\n",
       "      <td>NK</td>\n",
       "      <td>Yes</td>\n",
       "      <td>0</td>\n",
       "      <td>0</td>\n",
       "      <td>0.167472</td>\n",
       "      <td>0.832528</td>\n",
       "      <td>singlet</td>\n",
       "    </tr>\n",
       "    <tr>\n",
       "      <th>Heart-Subsampled_TCTACATTCGAGAACG-1-HCAHeart79053</th>\n",
       "      <td>Yes</td>\n",
       "      <td>65-70</td>\n",
       "      <td>Sanger-Cells</td>\n",
       "      <td>Pericytes</td>\n",
       "      <td>D6</td>\n",
       "      <td>Male</td>\n",
       "      <td>5860.0</td>\n",
       "      <td>2465</td>\n",
       "      <td>0.024573</td>\n",
       "      <td>0.051195</td>\n",
       "      <td>...</td>\n",
       "      <td>Cells</td>\n",
       "      <td>DCD</td>\n",
       "      <td>V3</td>\n",
       "      <td>PC3_str</td>\n",
       "      <td>Yes</td>\n",
       "      <td>0</td>\n",
       "      <td>0</td>\n",
       "      <td>0.590734</td>\n",
       "      <td>0.409266</td>\n",
       "      <td>doublet</td>\n",
       "    </tr>\n",
       "    <tr>\n",
       "      <th>Heart-Subsampled_CAGTTCCTCACGGGCT-1-H0020_</th>\n",
       "      <td>No</td>\n",
       "      <td>40-45</td>\n",
       "      <td>Harvard-Nuclei</td>\n",
       "      <td>Endothelial</td>\n",
       "      <td>H6</td>\n",
       "      <td>Female</td>\n",
       "      <td>1863.0</td>\n",
       "      <td>1163</td>\n",
       "      <td>0.006441</td>\n",
       "      <td>0.002684</td>\n",
       "      <td>...</td>\n",
       "      <td>Nuclei</td>\n",
       "      <td>DBD</td>\n",
       "      <td>V3</td>\n",
       "      <td>EC2_cap</td>\n",
       "      <td>Yes</td>\n",
       "      <td>0</td>\n",
       "      <td>0</td>\n",
       "      <td>0.261518</td>\n",
       "      <td>0.738482</td>\n",
       "      <td>singlet</td>\n",
       "    </tr>\n",
       "  </tbody>\n",
       "</table>\n",
       "<p>1000 rows × 23 columns</p>\n",
       "</div>"
      ],
      "text/plain": [
       "                                                   NRP age_group  \\\n",
       "Cell_Barcode                                                       \n",
       "Heart-Subsampled_AACTCCCCACGAGAGT-1-HCAHeart78440  Yes     65-70   \n",
       "Heart-Subsampled_ATAACGCAGAGCTGGT-1-HCAHeart78299   No     70-75   \n",
       "Heart-Subsampled_GTCAAGTCATGCCACG-1-HCAHeart77028  Yes     60-65   \n",
       "Heart-Subsampled_GGTGATTCAAATGAGT-1-HCAHeart81028  Yes     60-65   \n",
       "Heart-Subsampled_AGAGAATTCTTAGCAG-1-HCAHeart81028  Yes     60-65   \n",
       "...                                                ...       ...   \n",
       "Heart-Subsampled_GAAACTCCAATGGAAT-1-HCAHeart78299   No     70-75   \n",
       "Heart-Subsampled_ATAGACCGTTTCACTT-1-HCAHeart81028  Yes     60-65   \n",
       "Heart-Subsampled_GACCAATAGCCACGTC-1-HCAHeart78505  Yes     60-65   \n",
       "Heart-Subsampled_TCTACATTCGAGAACG-1-HCAHeart79053  Yes     65-70   \n",
       "Heart-Subsampled_CAGTTCCTCACGGGCT-1-H0020_          No     40-45   \n",
       "\n",
       "                                                      cell_source  \\\n",
       "Cell_Barcode                                                        \n",
       "Heart-Subsampled_AACTCCCCACGAGAGT-1-HCAHeart78440     Sanger-CD45   \n",
       "Heart-Subsampled_ATAACGCAGAGCTGGT-1-HCAHeart78299   Sanger-Nuclei   \n",
       "Heart-Subsampled_GTCAAGTCATGCCACG-1-HCAHeart77028   Sanger-Nuclei   \n",
       "Heart-Subsampled_GGTGATTCAAATGAGT-1-HCAHeart81028     Sanger-CD45   \n",
       "Heart-Subsampled_AGAGAATTCTTAGCAG-1-HCAHeart81028    Sanger-Cells   \n",
       "...                                                           ...   \n",
       "Heart-Subsampled_GAAACTCCAATGGAAT-1-HCAHeart78299   Sanger-Nuclei   \n",
       "Heart-Subsampled_ATAGACCGTTTCACTT-1-HCAHeart81028     Sanger-CD45   \n",
       "Heart-Subsampled_GACCAATAGCCACGTC-1-HCAHeart78505     Sanger-CD45   \n",
       "Heart-Subsampled_TCTACATTCGAGAACG-1-HCAHeart79053    Sanger-Cells   \n",
       "Heart-Subsampled_CAGTTCCTCACGGGCT-1-H0020_         Harvard-Nuclei   \n",
       "\n",
       "                                                                   cell_type  \\\n",
       "Cell_Barcode                                                                   \n",
       "Heart-Subsampled_AACTCCCCACGAGAGT-1-HCAHeart78440                    Myeloid   \n",
       "Heart-Subsampled_ATAACGCAGAGCTGGT-1-HCAHeart78299  Ventricular_Cardiomyocyte   \n",
       "Heart-Subsampled_GTCAAGTCATGCCACG-1-HCAHeart77028                 Fibroblast   \n",
       "Heart-Subsampled_GGTGATTCAAATGAGT-1-HCAHeart81028                Endothelial   \n",
       "Heart-Subsampled_AGAGAATTCTTAGCAG-1-HCAHeart81028                Endothelial   \n",
       "...                                                                      ...   \n",
       "Heart-Subsampled_GAAACTCCAATGGAAT-1-HCAHeart78299                Endothelial   \n",
       "Heart-Subsampled_ATAGACCGTTTCACTT-1-HCAHeart81028                  Pericytes   \n",
       "Heart-Subsampled_GACCAATAGCCACGTC-1-HCAHeart78505                   Lymphoid   \n",
       "Heart-Subsampled_TCTACATTCGAGAACG-1-HCAHeart79053                  Pericytes   \n",
       "Heart-Subsampled_CAGTTCCTCACGGGCT-1-H0020_                       Endothelial   \n",
       "\n",
       "                                                  donor  gender  n_counts  \\\n",
       "Cell_Barcode                                                                \n",
       "Heart-Subsampled_AACTCCCCACGAGAGT-1-HCAHeart78440    D6    Male    1420.0   \n",
       "Heart-Subsampled_ATAACGCAGAGCTGGT-1-HCAHeart78299    D4  Female     844.0   \n",
       "Heart-Subsampled_GTCAAGTCATGCCACG-1-HCAHeart77028    D2    Male    1491.0   \n",
       "Heart-Subsampled_GGTGATTCAAATGAGT-1-HCAHeart81028   D11  Female    2167.0   \n",
       "Heart-Subsampled_AGAGAATTCTTAGCAG-1-HCAHeart81028   D11  Female    7334.0   \n",
       "...                                                 ...     ...       ...   \n",
       "Heart-Subsampled_GAAACTCCAATGGAAT-1-HCAHeart78299    D4  Female     527.0   \n",
       "Heart-Subsampled_ATAGACCGTTTCACTT-1-HCAHeart81028   D11  Female    5144.0   \n",
       "Heart-Subsampled_GACCAATAGCCACGTC-1-HCAHeart78505    D7    Male    1850.0   \n",
       "Heart-Subsampled_TCTACATTCGAGAACG-1-HCAHeart79053    D6    Male    5860.0   \n",
       "Heart-Subsampled_CAGTTCCTCACGGGCT-1-H0020_           H6  Female    1863.0   \n",
       "\n",
       "                                                   n_genes  percent_mito  \\\n",
       "Cell_Barcode                                                               \n",
       "Heart-Subsampled_AACTCCCCACGAGAGT-1-HCAHeart78440      738      0.054930   \n",
       "Heart-Subsampled_ATAACGCAGAGCTGGT-1-HCAHeart78299      505      0.001185   \n",
       "Heart-Subsampled_GTCAAGTCATGCCACG-1-HCAHeart77028      862      0.000000   \n",
       "Heart-Subsampled_GGTGATTCAAATGAGT-1-HCAHeart81028     1115      0.064144   \n",
       "Heart-Subsampled_AGAGAATTCTTAGCAG-1-HCAHeart81028     2505      0.093537   \n",
       "...                                                    ...           ...   \n",
       "Heart-Subsampled_GAAACTCCAATGGAAT-1-HCAHeart78299      395      0.001898   \n",
       "Heart-Subsampled_ATAGACCGTTTCACTT-1-HCAHeart81028     1979      0.174767   \n",
       "Heart-Subsampled_GACCAATAGCCACGTC-1-HCAHeart78505      940      0.018378   \n",
       "Heart-Subsampled_TCTACATTCGAGAACG-1-HCAHeart79053     2465      0.024573   \n",
       "Heart-Subsampled_CAGTTCCTCACGGGCT-1-H0020_            1163      0.006441   \n",
       "\n",
       "                                                   percent_ribo  ...  source  \\\n",
       "Cell_Barcode                                                     ...           \n",
       "Heart-Subsampled_AACTCCCCACGAGAGT-1-HCAHeart78440      0.064789  ...   CD45+   \n",
       "Heart-Subsampled_ATAACGCAGAGCTGGT-1-HCAHeart78299      0.001185  ...  Nuclei   \n",
       "Heart-Subsampled_GTCAAGTCATGCCACG-1-HCAHeart77028      0.005366  ...  Nuclei   \n",
       "Heart-Subsampled_GGTGATTCAAATGAGT-1-HCAHeart81028      0.027227  ...   CD45+   \n",
       "Heart-Subsampled_AGAGAATTCTTAGCAG-1-HCAHeart81028      0.040496  ...   Cells   \n",
       "...                                                         ...  ...     ...   \n",
       "Heart-Subsampled_GAAACTCCAATGGAAT-1-HCAHeart78299      0.001898  ...  Nuclei   \n",
       "Heart-Subsampled_ATAGACCGTTTCACTT-1-HCAHeart81028      0.034798  ...   CD45+   \n",
       "Heart-Subsampled_GACCAATAGCCACGTC-1-HCAHeart78505      0.039459  ...   CD45+   \n",
       "Heart-Subsampled_TCTACATTCGAGAACG-1-HCAHeart79053      0.051195  ...   Cells   \n",
       "Heart-Subsampled_CAGTTCCTCACGGGCT-1-H0020_             0.002684  ...  Nuclei   \n",
       "\n",
       "                                                  type  version  \\\n",
       "Cell_Barcode                                                      \n",
       "Heart-Subsampled_AACTCCCCACGAGAGT-1-HCAHeart78440  DCD       V2   \n",
       "Heart-Subsampled_ATAACGCAGAGCTGGT-1-HCAHeart78299  DCD       V2   \n",
       "Heart-Subsampled_GTCAAGTCATGCCACG-1-HCAHeart77028  DCD       V2   \n",
       "Heart-Subsampled_GGTGATTCAAATGAGT-1-HCAHeart81028  DCD       V3   \n",
       "Heart-Subsampled_AGAGAATTCTTAGCAG-1-HCAHeart81028  DCD       V3   \n",
       "...                                                ...      ...   \n",
       "Heart-Subsampled_GAAACTCCAATGGAAT-1-HCAHeart78299  DCD       V2   \n",
       "Heart-Subsampled_ATAGACCGTTTCACTT-1-HCAHeart81028  DCD       V3   \n",
       "Heart-Subsampled_GACCAATAGCCACGTC-1-HCAHeart78505  DCD       V2   \n",
       "Heart-Subsampled_TCTACATTCGAGAACG-1-HCAHeart79053  DCD       V3   \n",
       "Heart-Subsampled_CAGTTCCTCACGGGCT-1-H0020_         DBD       V3   \n",
       "\n",
       "                                                     cell_states Used  \\\n",
       "Cell_Barcode                                                            \n",
       "Heart-Subsampled_AACTCCCCACGAGAGT-1-HCAHeart78440      LYVE1+MØ1  Yes   \n",
       "Heart-Subsampled_ATAACGCAGAGCTGGT-1-HCAHeart78299           vCM1  Yes   \n",
       "Heart-Subsampled_GTCAAGTCATGCCACG-1-HCAHeart77028            FB2  Yes   \n",
       "Heart-Subsampled_GGTGATTCAAATGAGT-1-HCAHeart81028  EC10_CMC-like  Yes   \n",
       "Heart-Subsampled_AGAGAATTCTTAGCAG-1-HCAHeart81028        EC5_art  Yes   \n",
       "...                                                          ...  ...   \n",
       "Heart-Subsampled_GAAACTCCAATGGAAT-1-HCAHeart78299        EC5_art  Yes   \n",
       "Heart-Subsampled_ATAGACCGTTTCACTT-1-HCAHeart81028        PC3_str  Yes   \n",
       "Heart-Subsampled_GACCAATAGCCACGTC-1-HCAHeart78505             NK  Yes   \n",
       "Heart-Subsampled_TCTACATTCGAGAACG-1-HCAHeart79053        PC3_str  Yes   \n",
       "Heart-Subsampled_CAGTTCCTCACGGGCT-1-H0020_               EC2_cap  Yes   \n",
       "\n",
       "                                                  _scvi_batch _scvi_labels  \\\n",
       "Cell_Barcode                                                                 \n",
       "Heart-Subsampled_AACTCCCCACGAGAGT-1-HCAHeart78440           0            0   \n",
       "Heart-Subsampled_ATAACGCAGAGCTGGT-1-HCAHeart78299           0            0   \n",
       "Heart-Subsampled_GTCAAGTCATGCCACG-1-HCAHeart77028           0            0   \n",
       "Heart-Subsampled_GGTGATTCAAATGAGT-1-HCAHeart81028           0            0   \n",
       "Heart-Subsampled_AGAGAATTCTTAGCAG-1-HCAHeart81028           0            0   \n",
       "...                                                       ...          ...   \n",
       "Heart-Subsampled_GAAACTCCAATGGAAT-1-HCAHeart78299           0            0   \n",
       "Heart-Subsampled_ATAGACCGTTTCACTT-1-HCAHeart81028           0            0   \n",
       "Heart-Subsampled_GACCAATAGCCACGTC-1-HCAHeart78505           0            0   \n",
       "Heart-Subsampled_TCTACATTCGAGAACG-1-HCAHeart79053           0            0   \n",
       "Heart-Subsampled_CAGTTCCTCACGGGCT-1-H0020_                  0            0   \n",
       "\n",
       "                                                    doublet   singlet  \\\n",
       "Cell_Barcode                                                            \n",
       "Heart-Subsampled_AACTCCCCACGAGAGT-1-HCAHeart78440  0.063017  0.936983   \n",
       "Heart-Subsampled_ATAACGCAGAGCTGGT-1-HCAHeart78299  0.010113  0.989887   \n",
       "Heart-Subsampled_GTCAAGTCATGCCACG-1-HCAHeart77028  0.323940  0.676060   \n",
       "Heart-Subsampled_GGTGATTCAAATGAGT-1-HCAHeart81028  0.390160  0.609840   \n",
       "Heart-Subsampled_AGAGAATTCTTAGCAG-1-HCAHeart81028  0.416016  0.583984   \n",
       "...                                                     ...       ...   \n",
       "Heart-Subsampled_GAAACTCCAATGGAAT-1-HCAHeart78299  0.002073  0.997927   \n",
       "Heart-Subsampled_ATAGACCGTTTCACTT-1-HCAHeart81028  0.746039  0.253961   \n",
       "Heart-Subsampled_GACCAATAGCCACGTC-1-HCAHeart78505  0.167472  0.832528   \n",
       "Heart-Subsampled_TCTACATTCGAGAACG-1-HCAHeart79053  0.590734  0.409266   \n",
       "Heart-Subsampled_CAGTTCCTCACGGGCT-1-H0020_         0.261518  0.738482   \n",
       "\n",
       "                                                   prediction  \n",
       "Cell_Barcode                                                   \n",
       "Heart-Subsampled_AACTCCCCACGAGAGT-1-HCAHeart78440     singlet  \n",
       "Heart-Subsampled_ATAACGCAGAGCTGGT-1-HCAHeart78299     singlet  \n",
       "Heart-Subsampled_GTCAAGTCATGCCACG-1-HCAHeart77028     singlet  \n",
       "Heart-Subsampled_GGTGATTCAAATGAGT-1-HCAHeart81028     singlet  \n",
       "Heart-Subsampled_AGAGAATTCTTAGCAG-1-HCAHeart81028     singlet  \n",
       "...                                                       ...  \n",
       "Heart-Subsampled_GAAACTCCAATGGAAT-1-HCAHeart78299     singlet  \n",
       "Heart-Subsampled_ATAGACCGTTTCACTT-1-HCAHeart81028     doublet  \n",
       "Heart-Subsampled_GACCAATAGCCACGTC-1-HCAHeart78505     singlet  \n",
       "Heart-Subsampled_TCTACATTCGAGAACG-1-HCAHeart79053     doublet  \n",
       "Heart-Subsampled_CAGTTCCTCACGGGCT-1-H0020_            singlet  \n",
       "\n",
       "[1000 rows x 23 columns]"
      ]
     },
     "execution_count": 18,
     "metadata": {},
     "output_type": "execute_result"
    }
   ],
   "source": [
    "sample_name = \"Heart-Subsampled\"\n",
    "\n",
    "# Create a new column to contain a cell barcode starting with the sample name\n",
    "adata.obs[\"Cell_Barcode\"] = sample_name\n",
    "# Append the index (cell barcode) to the sample name in each row\n",
    "adata.obs['Cell_Barcode'] = adata.obs['Cell_Barcode'].map(str) + \"_\" + adata.obs.index\n",
    "\n",
    "# Strip off the \"-1\" which is on the barcodes\n",
    "adata.obs['Cell_Barcode'] = adata.obs['Cell_Barcode'].map(lambda x: x[:-2])\n",
    "\n",
    "# Confirm the number of unique barcodes (should equal the number of rows)\n",
    "display(f\"All `adata.obs` rows have a unique barcode: {len(adata.obs['Cell_Barcode'].unique()) == adata.obs.shape[0]} ({len(adata.obs['Cell_Barcode'].unique())} cells barcoded)\")\n",
    "\n",
    "# Create a new column to contain a cell barcode starting with the sample name\n",
    "doublets['Cell_Barcode'] = sample_name\n",
    "\n",
    "# Append the index (cell barcode) to the sample name in each row\n",
    "doublets['Cell_Barcode'] = doublets['Cell_Barcode'].map(str) + \"_\" + doublets.index\n",
    "\n",
    "\n",
    "# Confirm the number of unique barcodes (should equal the number of rows)\n",
    "display(f\"All `doublets` rows have a unique barcode: {len(doublets['Cell_Barcode'].unique()) == doublets.shape[0]} ({len(doublets['Cell_Barcode'].unique())} cells barcoded)\")\n",
    "\n",
    "# Confirm that the doublets dataframe has the same barcodes as the adata.obs dataframe\n",
    "display(f\"Do adata.obs and doublets have the same barcodes?\\n{doublets['Cell_Barcode'].isin(adata.obs['Cell_Barcode']).value_counts()}\")\n",
    "\n",
    "# Merge the doublets dataframe into adata.obs\n",
    "adata.obs = pd.merge(adata.obs, doublets, on='Cell_Barcode')\n",
    "\n",
    "# Make the cell barcodes be the index column\n",
    "adata.obs.set_index('Cell_Barcode')"
   ]
  },
  {
   "cell_type": "code",
   "execution_count": 27,
   "metadata": {},
   "outputs": [],
   "source": [
    "# Basic quality control\n",
    "sc.pp.filter_genes(adata, min_cells=3)\n",
    "sc.pp.filter_cells(adata, min_genes=3000)\n",
    "\n",
    "# Note this is an incomplete set of QC. We are proving that scanpy is operational"
   ]
  },
  {
   "cell_type": "code",
   "execution_count": 28,
   "metadata": {},
   "outputs": [],
   "source": [
    "# Normalize and Log Transform\n",
    "adata.layers[\"counts\"] = adata.X.copy()\n",
    "sc.pp.normalize_total(adata, target_sum=1e4)\n",
    "sc.pp.log1p(adata)\n",
    "adata.raw = adata"
   ]
  },
  {
   "cell_type": "code",
   "execution_count": 29,
   "metadata": {},
   "outputs": [
    {
     "ename": "ValueError",
     "evalue": "b'reciprocal condition number  1.3526e-16\\n'",
     "output_type": "error",
     "traceback": [
      "\u001b[0;31m---------------------------------------------------------------------------\u001b[0m",
      "\u001b[0;31mValueError\u001b[0m                                Traceback (most recent call last)",
      "Cell \u001b[0;32mIn[29], line 1\u001b[0m\n\u001b[0;32m----> 1\u001b[0m \u001b[43msc\u001b[49m\u001b[38;5;241;43m.\u001b[39;49m\u001b[43mpp\u001b[49m\u001b[38;5;241;43m.\u001b[39;49m\u001b[43mhighly_variable_genes\u001b[49m\u001b[43m(\u001b[49m\n\u001b[1;32m      2\u001b[0m \u001b[43m    \u001b[49m\u001b[43madata\u001b[49m\u001b[43m,\u001b[49m\n\u001b[1;32m      3\u001b[0m \u001b[43m    \u001b[49m\u001b[43mn_top_genes\u001b[49m\u001b[38;5;241;43m=\u001b[39;49m\u001b[38;5;241;43m1200\u001b[39;49m\u001b[43m,\u001b[49m\n\u001b[1;32m      4\u001b[0m \u001b[43m    \u001b[49m\u001b[43msubset\u001b[49m\u001b[38;5;241;43m=\u001b[39;49m\u001b[38;5;28;43;01mTrue\u001b[39;49;00m\u001b[43m,\u001b[49m\n\u001b[1;32m      5\u001b[0m \u001b[43m    \u001b[49m\u001b[43mlayer\u001b[49m\u001b[38;5;241;43m=\u001b[39;49m\u001b[38;5;124;43m\"\u001b[39;49m\u001b[38;5;124;43mcounts\u001b[39;49m\u001b[38;5;124;43m\"\u001b[39;49m\u001b[43m,\u001b[49m\n\u001b[1;32m      6\u001b[0m \u001b[43m    \u001b[49m\u001b[43mflavor\u001b[49m\u001b[38;5;241;43m=\u001b[39;49m\u001b[38;5;124;43m\"\u001b[39;49m\u001b[38;5;124;43mseurat_v3\u001b[39;49m\u001b[38;5;124;43m\"\u001b[39;49m\u001b[43m,\u001b[49m\n\u001b[1;32m      7\u001b[0m \u001b[43m    \u001b[49m\u001b[43mbatch_key\u001b[49m\u001b[38;5;241;43m=\u001b[39;49m\u001b[38;5;124;43m\"\u001b[39;49m\u001b[38;5;124;43mcell_source\u001b[39;49m\u001b[38;5;124;43m\"\u001b[39;49m\u001b[43m,\u001b[49m\n\u001b[1;32m      8\u001b[0m \u001b[43m)\u001b[49m\n",
      "File \u001b[0;32m/opt/conda/envs/facsimilab/lib/python3.11/site-packages/legacy_api_wrap/__init__.py:80\u001b[0m, in \u001b[0;36mlegacy_api.<locals>.wrapper.<locals>.fn_compatible\u001b[0;34m(*args_all, **kw)\u001b[0m\n\u001b[1;32m     77\u001b[0m \u001b[38;5;129m@wraps\u001b[39m(fn)\n\u001b[1;32m     78\u001b[0m \u001b[38;5;28;01mdef\u001b[39;00m \u001b[38;5;21mfn_compatible\u001b[39m(\u001b[38;5;241m*\u001b[39margs_all: P\u001b[38;5;241m.\u001b[39margs, \u001b[38;5;241m*\u001b[39m\u001b[38;5;241m*\u001b[39mkw: P\u001b[38;5;241m.\u001b[39mkwargs) \u001b[38;5;241m-\u001b[39m\u001b[38;5;241m>\u001b[39m R:\n\u001b[1;32m     79\u001b[0m     \u001b[38;5;28;01mif\u001b[39;00m \u001b[38;5;28mlen\u001b[39m(args_all) \u001b[38;5;241m<\u001b[39m\u001b[38;5;241m=\u001b[39m n_positional:\n\u001b[0;32m---> 80\u001b[0m         \u001b[38;5;28;01mreturn\u001b[39;00m \u001b[43mfn\u001b[49m\u001b[43m(\u001b[49m\u001b[38;5;241;43m*\u001b[39;49m\u001b[43margs_all\u001b[49m\u001b[43m,\u001b[49m\u001b[43m \u001b[49m\u001b[38;5;241;43m*\u001b[39;49m\u001b[38;5;241;43m*\u001b[39;49m\u001b[43mkw\u001b[49m\u001b[43m)\u001b[49m\n\u001b[1;32m     82\u001b[0m     args_pos: P\u001b[38;5;241m.\u001b[39margs\n\u001b[1;32m     83\u001b[0m     args_pos, args_rest \u001b[38;5;241m=\u001b[39m args_all[:n_positional], args_all[n_positional:]\n",
      "File \u001b[0;32m/opt/conda/envs/facsimilab/lib/python3.11/site-packages/scanpy/preprocessing/_highly_variable_genes.py:655\u001b[0m, in \u001b[0;36mhighly_variable_genes\u001b[0;34m(adata, layer, n_top_genes, min_disp, max_disp, min_mean, max_mean, span, n_bins, flavor, subset, inplace, batch_key, check_values)\u001b[0m\n\u001b[1;32m    653\u001b[0m         sig \u001b[38;5;241m=\u001b[39m signature(_highly_variable_genes_seurat_v3)\n\u001b[1;32m    654\u001b[0m         n_top_genes \u001b[38;5;241m=\u001b[39m cast(\u001b[38;5;28mint\u001b[39m, sig\u001b[38;5;241m.\u001b[39mparameters[\u001b[38;5;124m\"\u001b[39m\u001b[38;5;124mn_top_genes\u001b[39m\u001b[38;5;124m\"\u001b[39m]\u001b[38;5;241m.\u001b[39mdefault)\n\u001b[0;32m--> 655\u001b[0m     \u001b[38;5;28;01mreturn\u001b[39;00m \u001b[43m_highly_variable_genes_seurat_v3\u001b[49m\u001b[43m(\u001b[49m\n\u001b[1;32m    656\u001b[0m \u001b[43m        \u001b[49m\u001b[43madata\u001b[49m\u001b[43m,\u001b[49m\n\u001b[1;32m    657\u001b[0m \u001b[43m        \u001b[49m\u001b[43mflavor\u001b[49m\u001b[38;5;241;43m=\u001b[39;49m\u001b[43mflavor\u001b[49m\u001b[43m,\u001b[49m\n\u001b[1;32m    658\u001b[0m \u001b[43m        \u001b[49m\u001b[43mlayer\u001b[49m\u001b[38;5;241;43m=\u001b[39;49m\u001b[43mlayer\u001b[49m\u001b[43m,\u001b[49m\n\u001b[1;32m    659\u001b[0m \u001b[43m        \u001b[49m\u001b[43mn_top_genes\u001b[49m\u001b[38;5;241;43m=\u001b[39;49m\u001b[43mn_top_genes\u001b[49m\u001b[43m,\u001b[49m\n\u001b[1;32m    660\u001b[0m \u001b[43m        \u001b[49m\u001b[43mbatch_key\u001b[49m\u001b[38;5;241;43m=\u001b[39;49m\u001b[43mbatch_key\u001b[49m\u001b[43m,\u001b[49m\n\u001b[1;32m    661\u001b[0m \u001b[43m        \u001b[49m\u001b[43mcheck_values\u001b[49m\u001b[38;5;241;43m=\u001b[39;49m\u001b[43mcheck_values\u001b[49m\u001b[43m,\u001b[49m\n\u001b[1;32m    662\u001b[0m \u001b[43m        \u001b[49m\u001b[43mspan\u001b[49m\u001b[38;5;241;43m=\u001b[39;49m\u001b[43mspan\u001b[49m\u001b[43m,\u001b[49m\n\u001b[1;32m    663\u001b[0m \u001b[43m        \u001b[49m\u001b[43msubset\u001b[49m\u001b[38;5;241;43m=\u001b[39;49m\u001b[43msubset\u001b[49m\u001b[43m,\u001b[49m\n\u001b[1;32m    664\u001b[0m \u001b[43m        \u001b[49m\u001b[43minplace\u001b[49m\u001b[38;5;241;43m=\u001b[39;49m\u001b[43minplace\u001b[49m\u001b[43m,\u001b[49m\n\u001b[1;32m    665\u001b[0m \u001b[43m    \u001b[49m\u001b[43m)\u001b[49m\n\u001b[1;32m    667\u001b[0m cutoff \u001b[38;5;241m=\u001b[39m _Cutoffs\u001b[38;5;241m.\u001b[39mvalidate(\n\u001b[1;32m    668\u001b[0m     n_top_genes\u001b[38;5;241m=\u001b[39mn_top_genes,\n\u001b[1;32m    669\u001b[0m     min_disp\u001b[38;5;241m=\u001b[39mmin_disp,\n\u001b[0;32m   (...)\u001b[0m\n\u001b[1;32m    672\u001b[0m     max_mean\u001b[38;5;241m=\u001b[39mmax_mean,\n\u001b[1;32m    673\u001b[0m )\n\u001b[1;32m    674\u001b[0m \u001b[38;5;28;01mdel\u001b[39;00m min_disp, max_disp, min_mean, max_mean, n_top_genes\n",
      "File \u001b[0;32m/opt/conda/envs/facsimilab/lib/python3.11/site-packages/scanpy/preprocessing/_highly_variable_genes.py:98\u001b[0m, in \u001b[0;36m_highly_variable_genes_seurat_v3\u001b[0;34m(adata, flavor, layer, n_top_genes, batch_key, check_values, span, subset, inplace)\u001b[0m\n\u001b[1;32m     96\u001b[0m x \u001b[38;5;241m=\u001b[39m np\u001b[38;5;241m.\u001b[39mlog10(mean[not_const])\n\u001b[1;32m     97\u001b[0m model \u001b[38;5;241m=\u001b[39m loess(x, y, span\u001b[38;5;241m=\u001b[39mspan, degree\u001b[38;5;241m=\u001b[39m\u001b[38;5;241m2\u001b[39m)\n\u001b[0;32m---> 98\u001b[0m \u001b[43mmodel\u001b[49m\u001b[38;5;241;43m.\u001b[39;49m\u001b[43mfit\u001b[49m\u001b[43m(\u001b[49m\u001b[43m)\u001b[49m\n\u001b[1;32m     99\u001b[0m estimat_var[not_const] \u001b[38;5;241m=\u001b[39m model\u001b[38;5;241m.\u001b[39moutputs\u001b[38;5;241m.\u001b[39mfitted_values\n\u001b[1;32m    100\u001b[0m reg_std \u001b[38;5;241m=\u001b[39m np\u001b[38;5;241m.\u001b[39msqrt(\u001b[38;5;241m10\u001b[39m\u001b[38;5;241m*\u001b[39m\u001b[38;5;241m*\u001b[39mestimat_var)\n",
      "File \u001b[0;32m_loess.pyx:899\u001b[0m, in \u001b[0;36m_loess.loess.fit\u001b[0;34m()\u001b[0m\n",
      "\u001b[0;31mValueError\u001b[0m: b'reciprocal condition number  1.3526e-16\\n'"
     ]
    }
   ],
   "source": [
    "sc.pp.highly_variable_genes(\n",
    "    adata,\n",
    "    n_top_genes=1200,\n",
    "    subset=True,\n",
    "    layer=\"counts\",\n",
    "    flavor=\"seurat_v3\",\n",
    "    batch_key=\"cell_source\",\n",
    ")"
   ]
  }
 ],
 "metadata": {
  "kernelspec": {
   "display_name": "Python 3 (ipykernel)",
   "language": "python",
   "name": "python3"
  },
  "language_info": {
   "codemirror_mode": {
    "name": "ipython",
    "version": 3
   },
   "file_extension": ".py",
   "mimetype": "text/x-python",
   "name": "python",
   "nbconvert_exporter": "python",
   "pygments_lexer": "ipython3",
   "version": "3.11.9"
  }
 },
 "nbformat": 4,
 "nbformat_minor": 2
}
